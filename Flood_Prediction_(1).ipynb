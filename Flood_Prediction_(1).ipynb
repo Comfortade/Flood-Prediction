{
  "cells": [
    {
      "cell_type": "markdown",
      "metadata": {
        "id": "view-in-github",
        "colab_type": "text"
      },
      "source": [
        "<a href=\"https://colab.research.google.com/github/Comfortade/Flood-Prediction/blob/main/Flood_Prediction_(1).ipynb\" target=\"_parent\"><img src=\"https://colab.research.google.com/assets/colab-badge.svg\" alt=\"Open In Colab\"/></a>"
      ]
    },
    {
      "cell_type": "markdown",
      "id": "16ff96c9-d3f4-4407-b739-7753fb5c0c7b",
      "metadata": {
        "id": "16ff96c9-d3f4-4407-b739-7753fb5c0c7b"
      },
      "source": [
        "## Importing Libraries\n"
      ]
    },
    {
      "cell_type": "code",
      "execution_count": null,
      "id": "76c10b5e-1d34-4aa8-b692-3049d09c8331",
      "metadata": {
        "id": "76c10b5e-1d34-4aa8-b692-3049d09c8331"
      },
      "outputs": [],
      "source": [
        "import numpy as np\n",
        "import pandas as pd\n",
        "import matplotlib.pyplot as plt\n",
        "from matplotlib import style\n",
        "%matplotlib inline\n",
        "import seaborn as sns\n",
        "from sklearn.model_selection import train_test_split\n",
        "from sklearn.ensemble import RandomForestClassifier\n",
        "from sklearn.metrics import accuracy_score, classification_report, confusion_matrix\n",
        "from sklearn.preprocessing import OneHotEncoder\n",
        "from statsmodels.tsa.arima.model import ARIMA\n",
        "from pmdarima import auto_arima\n",
        "import warnings\n",
        "warnings.filterwarnings(\"ignore\")"
      ]
    },
    {
      "cell_type": "markdown",
      "id": "8cd17b72-76a5-4195-b8a8-9ae5dc073565",
      "metadata": {
        "id": "8cd17b72-76a5-4195-b8a8-9ae5dc073565"
      },
      "source": [
        "# Load your Data"
      ]
    },
    {
      "cell_type": "code",
      "execution_count": null,
      "id": "ce434ff8-5c13-449f-b952-9e892c62d0e4",
      "metadata": {
        "id": "ce434ff8-5c13-449f-b952-9e892c62d0e4",
        "outputId": "6c63061a-3149-4474-bd56-a0629921f15c"
      },
      "outputs": [
        {
          "name": "stdout",
          "output_type": "stream",
          "text": [
            "   Unnamed: 0   name    datetime  tempmax  tempmin  temp  feelslikemax  \\\n",
            "0           0  Lagos  2002-01-01     28.6     25.6  27.2          33.8   \n",
            "1           1  Lagos  2002-01-02     33.1     26.1  29.0          39.4   \n",
            "2           2  Lagos  2002-01-03     34.1     25.1  29.1          35.2   \n",
            "3           3  Lagos  2002-01-04     33.1     33.1  33.1          39.4   \n",
            "4           4  Lagos  2002-01-05     31.1     25.6  28.3          37.4   \n",
            "\n",
            "   feelslikemin  feelslike   dew  ...  severerisk              sunrise  \\\n",
            "0          25.6       30.7  25.2  ...         NaN  2002-01-01T06:57:21   \n",
            "1          26.1       33.8  25.1  ...         NaN  2002-01-02T06:57:46   \n",
            "2          25.1       31.7  23.2  ...         NaN  2002-01-03T06:58:11   \n",
            "3          39.4       39.4  24.1  ...         NaN  2002-01-04T06:58:35   \n",
            "4          25.6       33.1  25.4  ...         NaN  2002-01-05T06:58:59   \n",
            "\n",
            "                sunset  moonphase        conditions  \\\n",
            "0  2002-01-01T18:42:38       0.57  Partially cloudy   \n",
            "1  2002-01-02T18:43:08       0.61  Partially cloudy   \n",
            "2  2002-01-03T18:43:39       0.64  Partially cloudy   \n",
            "3  2002-01-04T18:44:10       0.68  Partially cloudy   \n",
            "4  2002-01-05T18:44:40       0.71  Partially cloudy   \n",
            "\n",
            "                         description               icon     stations  \\\n",
            "0         Clearing in the afternoon.  partly-cloudy-day  65201099999   \n",
            "1  Partly cloudy throughout the day.  partly-cloudy-day  65201099999   \n",
            "2  Partly cloudy throughout the day.  partly-cloudy-day  65201099999   \n",
            "3  Becoming cloudy in the afternoon.  partly-cloudy-day  65201099999   \n",
            "4  Partly cloudy throughout the day.  partly-cloudy-day  65201099999   \n",
            "\n",
            "   windspeedmax  windspeedmin  \n",
            "0           NaN           NaN  \n",
            "1           NaN           NaN  \n",
            "2           NaN           NaN  \n",
            "3           NaN           NaN  \n",
            "4           NaN           NaN  \n",
            "\n",
            "[5 rows x 36 columns]\n"
          ]
        }
      ],
      "source": [
        "df = pd.read_csv('lagos_weather.csv')\n",
        "print(df.head())"
      ]
    },
    {
      "cell_type": "code",
      "execution_count": null,
      "id": "721e8b78-e61d-4dac-9dda-e0adee223177",
      "metadata": {
        "id": "721e8b78-e61d-4dac-9dda-e0adee223177",
        "outputId": "55e3efdc-473d-416b-8058-61aa5d069709"
      },
      "outputs": [
        {
          "data": {
            "text/plain": [
              "Index(['Unnamed: 0', 'name', 'datetime', 'tempmax', 'tempmin', 'temp',\n",
              "       'feelslikemax', 'feelslikemin', 'feelslike', 'dew', 'humidity',\n",
              "       'precip', 'precipprob', 'precipcover', 'preciptype', 'snow',\n",
              "       'snowdepth', 'windgust', 'windspeed', 'winddir', 'sealevelpressure',\n",
              "       'cloudcover', 'visibility', 'solarradiation', 'solarenergy', 'uvindex',\n",
              "       'severerisk', 'sunrise', 'sunset', 'moonphase', 'conditions',\n",
              "       'description', 'icon', 'stations', 'windspeedmax', 'windspeedmin'],\n",
              "      dtype='object')"
            ]
          },
          "execution_count": 27,
          "metadata": {},
          "output_type": "execute_result"
        }
      ],
      "source": [
        "df.columns"
      ]
    },
    {
      "cell_type": "code",
      "execution_count": null,
      "id": "2070ffd2-0f94-4713-8c01-e25c4a093447",
      "metadata": {
        "id": "2070ffd2-0f94-4713-8c01-e25c4a093447",
        "outputId": "1470b7ca-2c70-4a6f-fd9d-755cbf54037c"
      },
      "outputs": [
        {
          "data": {
            "text/plain": [
              "(8676, 36)"
            ]
          },
          "execution_count": 28,
          "metadata": {},
          "output_type": "execute_result"
        }
      ],
      "source": [
        "df.shape"
      ]
    },
    {
      "cell_type": "code",
      "execution_count": null,
      "id": "4f6e8ccd-7b6f-4081-a329-4ed666b76bb3",
      "metadata": {
        "id": "4f6e8ccd-7b6f-4081-a329-4ed666b76bb3",
        "outputId": "2cd19ae1-4f72-4bab-dbc8-93d534a80d21"
      },
      "outputs": [
        {
          "name": "stdout",
          "output_type": "stream",
          "text": [
            "    Year      Month  Event                     Impact Areas\n",
            "0   2009       July  Flood   Lagos island, Ikoyi, VI, Lekki\n",
            "1   2009    October  Flood  Surulere, Lagos island, Ikorodu\n",
            "2   2010       June  Flood             Ijagemo and environs\n",
            "3   2010       July  Flood       Surulere, Lagos island, VI\n",
            "4   2010     August  Flood           Ajegunle, Mushin, Ajah\n",
            "5   2011       July  Flood  Surulere, Lagos island, Ikorodu\n",
            "6   2012       June  Flood                  Ikeja, Shogunle\n",
            "7   2012       July  Flood         VI, Lekki, Ajah, Ikorodu\n",
            "8   2013       July  Flood    Lagos island, Surulere, Agege\n",
            "9   2014      April  Flood          Oshodi, Apapa,Sururlere\n",
            "10  2014       June  Flood                  Leki, Vi, Ikoyi\n",
            "11  2014       July  Flood       Leki, Vi, Ikoyi & environs\n",
            "12  2015       June  Flood                  Leki, Vi, Ikoyi\n",
            "13  2015       July  Flood                   Lagos environs\n",
            "14  2016       June  Flood               Lekki, VI, Ikorodu\n",
            "15  2016       July  Flood        Park view, Bananna Island\n",
            "16  2017       July  Flood                  Ajah, Lekki, Vi\n",
            "17  2018      March  Flood                         Alajbade\n",
            "18  2018       June  Flood                      Lekki, Ajah\n",
            "19  2018       July  Flood                   Lagos environs\n",
            "20  2019    October  Flood                     Lekki, Agege\n",
            "21  2020       June  Flood                     Agege, Ikeja\n",
            "22  2020       July  Flood                   Lagos environs\n",
            "23  2021       July  Flood                  Lekki, Ajah, VI\n",
            "24  2021  September  Flood              Alaba, Lekki, Agege\n",
            "25  2022       July  Flood                  Alimosho, Agege\n",
            "26  2022  September  Flood                   Lagos environs\n",
            "27  2023  September  Flood                   Lagos environs\n"
          ]
        }
      ],
      "source": [
        "# Specify the path to your Excel file\n",
        "file_path = r'C:\\Users\\comad\\ML\\HNG\\Flood event.xlsx'\n",
        "\n",
        "# Load the Excel file\n",
        "flood = pd.read_excel(file_path)\n",
        "\n",
        "# Display the first few rows of the DataFrame\n",
        "print(flood)"
      ]
    },
    {
      "cell_type": "markdown",
      "id": "0eedccab-e436-4425-9d99-c97870ed7525",
      "metadata": {
        "id": "0eedccab-e436-4425-9d99-c97870ed7525"
      },
      "source": [
        "## Data Cleaning"
      ]
    },
    {
      "cell_type": "code",
      "execution_count": null,
      "id": "306bb29e-aff3-421b-b88b-cf1fdc0b9972",
      "metadata": {
        "id": "306bb29e-aff3-421b-b88b-cf1fdc0b9972",
        "outputId": "78cffefc-ebad-4c40-fc41-03fb583936c0"
      },
      "outputs": [
        {
          "name": "stdout",
          "output_type": "stream",
          "text": [
            "['2002-01-01' '2002-01-02' '2002-01-03' '2002-01-04' '2002-01-05'\n",
            " '2002-01-06' '2002-01-07' '2002-01-08' '2002-01-09' '2002-01-10'\n",
            " '2002-01-11' '2002-01-12' '2002-01-13' '2002-01-14' '2002-01-15'\n",
            " '2002-01-16' '2002-01-17' '2002-01-18' '2002-01-19' '2002-01-20']\n"
          ]
        }
      ],
      "source": [
        "unique_dates = df['datetime'].unique()\n",
        "print(unique_dates[:20])  # Print the first 20 unique dates to inspect\n"
      ]
    },
    {
      "cell_type": "code",
      "execution_count": null,
      "id": "0fb41d14-ec34-401a-93ca-8f0174ac254a",
      "metadata": {
        "id": "0fb41d14-ec34-401a-93ca-8f0174ac254a",
        "outputId": "ec1c5616-8563-4558-cf42-200462e8815c"
      },
      "outputs": [
        {
          "name": "stdout",
          "output_type": "stream",
          "text": [
            "0\n"
          ]
        }
      ],
      "source": [
        "from datetime import datetime\n",
        "\n",
        "def parse_date(date_str):\n",
        "    for fmt in (\"%Y-%m-%d\", \"%d/%m/%Y\", \"%m/%d/%Y\"):\n",
        "        try:\n",
        "            return datetime.strptime(date_str, fmt)\n",
        "        except ValueError:\n",
        "            continue\n",
        "    return pd.NaT  # Return NaT if no format matches\n",
        "\n",
        "# Apply the function to the datetime column\n",
        "df['datetime'] = df['datetime'].apply(parse_date)\n",
        "\n",
        "# Check for any NaT values\n",
        "print(df['datetime'].isna().sum())  # Print the number of NaT values\n"
      ]
    },
    {
      "cell_type": "code",
      "execution_count": null,
      "id": "61ba4d12-7780-4dc3-b5d8-341990bddc06",
      "metadata": {
        "id": "61ba4d12-7780-4dc3-b5d8-341990bddc06",
        "outputId": "a4db0784-3076-4e57-cb78-eba16af836d9"
      },
      "outputs": [
        {
          "data": {
            "text/plain": [
              "Unnamed: 0             0\n",
              "name                   0\n",
              "datetime               0\n",
              "tempmax              591\n",
              "tempmin              591\n",
              "temp                 823\n",
              "feelslikemax         591\n",
              "feelslikemin         591\n",
              "feelslike            823\n",
              "dew                  823\n",
              "humidity             823\n",
              "precip               823\n",
              "precipprob           823\n",
              "precipcover            0\n",
              "preciptype          4940\n",
              "snow                4748\n",
              "snowdepth           4753\n",
              "windgust            2800\n",
              "windspeed            598\n",
              "winddir             1206\n",
              "sealevelpressure    1012\n",
              "cloudcover           823\n",
              "visibility          1025\n",
              "solarradiation      3288\n",
              "solarenergy         3288\n",
              "uvindex             3288\n",
              "severerisk          7314\n",
              "sunrise              366\n",
              "sunset               366\n",
              "moonphase            366\n",
              "conditions          1179\n",
              "description         1179\n",
              "icon                1179\n",
              "stations            1179\n",
              "windspeedmax        8310\n",
              "windspeedmin        8310\n",
              "dtype: int64"
            ]
          },
          "execution_count": 32,
          "metadata": {},
          "output_type": "execute_result"
        }
      ],
      "source": [
        "df.isnull().sum()"
      ]
    },
    {
      "cell_type": "code",
      "execution_count": null,
      "id": "370d483b-292a-4289-a5d1-f8ad5ce77a95",
      "metadata": {
        "id": "370d483b-292a-4289-a5d1-f8ad5ce77a95",
        "outputId": "5d48a417-8937-4285-d963-1ac5f45c6295"
      },
      "outputs": [
        {
          "data": {
            "text/plain": [
              "Year            0\n",
              "Month           0\n",
              "Event           0\n",
              "Impact Areas    0\n",
              "dtype: int64"
            ]
          },
          "execution_count": 33,
          "metadata": {},
          "output_type": "execute_result"
        }
      ],
      "source": [
        "flood.dropna(subset = ['Impact Areas'], inplace = True)\n",
        "flood.isnull().sum()"
      ]
    },
    {
      "cell_type": "code",
      "execution_count": null,
      "id": "5341c67b-476a-49b9-8994-96306b151532",
      "metadata": {
        "id": "5341c67b-476a-49b9-8994-96306b151532",
        "outputId": "f4854a0c-6b89-4d0b-fedf-88a043a53dea"
      },
      "outputs": [
        {
          "data": {
            "text/plain": [
              "Unnamed: 0             0\n",
              "name                   0\n",
              "datetime               0\n",
              "tempmax                0\n",
              "tempmin                0\n",
              "temp                   0\n",
              "feelslikemax           0\n",
              "feelslikemin           0\n",
              "feelslike              0\n",
              "dew                    0\n",
              "humidity               0\n",
              "precip                 0\n",
              "precipprob             0\n",
              "precipcover            0\n",
              "preciptype          3867\n",
              "snow                3569\n",
              "snowdepth           3574\n",
              "windgust            1965\n",
              "windspeed              0\n",
              "winddir               27\n",
              "sealevelpressure     189\n",
              "cloudcover             0\n",
              "visibility           202\n",
              "solarradiation      2109\n",
              "solarenergy         2109\n",
              "uvindex             2109\n",
              "severerisk          6135\n",
              "sunrise                0\n",
              "sunset                 0\n",
              "moonphase              0\n",
              "conditions             0\n",
              "description            0\n",
              "icon                   0\n",
              "stations               0\n",
              "windspeedmax        7497\n",
              "windspeedmin        7497\n",
              "dtype: int64"
            ]
          },
          "execution_count": 34,
          "metadata": {},
          "output_type": "execute_result"
        }
      ],
      "source": [
        "df['precipprob'].unique()\n",
        "df.dropna(subset = ['temp','sunrise'], inplace = True)\n",
        "df.isnull().sum()"
      ]
    },
    {
      "cell_type": "code",
      "execution_count": null,
      "id": "dd6084d1-e90f-4450-9ab4-488b9f5f4eb0",
      "metadata": {
        "id": "dd6084d1-e90f-4450-9ab4-488b9f5f4eb0",
        "outputId": "c41b04e0-501a-44f8-90e4-bf9d69186c1e"
      },
      "outputs": [
        {
          "data": {
            "text/plain": [
              "Unnamed: 0             0\n",
              "name                   0\n",
              "datetime               0\n",
              "tempmax                0\n",
              "tempmin                0\n",
              "temp                   0\n",
              "feelslikemax           0\n",
              "feelslikemin           0\n",
              "feelslike              0\n",
              "dew                    0\n",
              "humidity               0\n",
              "precip                 0\n",
              "precipprob             0\n",
              "precipcover            0\n",
              "preciptype          3867\n",
              "windgust            1965\n",
              "windspeed              0\n",
              "winddir               27\n",
              "sealevelpressure     189\n",
              "cloudcover             0\n",
              "visibility           202\n",
              "solarradiation      2109\n",
              "solarenergy         2109\n",
              "uvindex             2109\n",
              "severerisk          6135\n",
              "sunrise                0\n",
              "sunset                 0\n",
              "moonphase              0\n",
              "conditions             0\n",
              "description            0\n",
              "icon                   0\n",
              "stations               0\n",
              "dtype: int64"
            ]
          },
          "execution_count": 35,
          "metadata": {},
          "output_type": "execute_result"
        }
      ],
      "source": [
        "# Drop the 'snow' and 'snowdepth' columns\n",
        "df.drop(columns=['snow', 'snowdepth','windspeedmax','windspeedmin' ], inplace=True)\n",
        "df.isnull().sum()"
      ]
    },
    {
      "cell_type": "code",
      "execution_count": null,
      "id": "2cd389da-8225-40ad-9425-7959e9f80820",
      "metadata": {
        "id": "2cd389da-8225-40ad-9425-7959e9f80820",
        "outputId": "981b90c9-42bb-4af5-c675-564d52989301"
      },
      "outputs": [
        {
          "data": {
            "text/plain": [
              "array([nan, 'rain'], dtype=object)"
            ]
          },
          "execution_count": 36,
          "metadata": {},
          "output_type": "execute_result"
        }
      ],
      "source": [
        "df['preciptype'].unique()"
      ]
    },
    {
      "cell_type": "code",
      "execution_count": null,
      "id": "5b5b2899-430c-47da-ab06-e9b29da02b66",
      "metadata": {
        "id": "5b5b2899-430c-47da-ab06-e9b29da02b66",
        "outputId": "00b6d107-36d5-494d-c53c-e5ac2e036451"
      },
      "outputs": [
        {
          "data": {
            "text/plain": [
              "Unnamed: 0             0\n",
              "name                   0\n",
              "datetime               0\n",
              "tempmax                0\n",
              "tempmin                0\n",
              "temp                   0\n",
              "feelslikemax           0\n",
              "feelslikemin           0\n",
              "feelslike              0\n",
              "dew                    0\n",
              "humidity               0\n",
              "precip                 0\n",
              "precipprob             0\n",
              "precipcover            0\n",
              "preciptype             0\n",
              "windgust            1965\n",
              "windspeed              0\n",
              "winddir               27\n",
              "sealevelpressure     189\n",
              "cloudcover             0\n",
              "visibility           202\n",
              "solarradiation      2109\n",
              "solarenergy         2109\n",
              "uvindex             2109\n",
              "severerisk          6135\n",
              "sunrise                0\n",
              "sunset                 0\n",
              "moonphase              0\n",
              "conditions             0\n",
              "description            0\n",
              "icon                   0\n",
              "stations               0\n",
              "dtype: int64"
            ]
          },
          "execution_count": 37,
          "metadata": {},
          "output_type": "execute_result"
        }
      ],
      "source": [
        "df['preciptype'].fillna('No rain', inplace = True)\n",
        "df.isnull().sum()"
      ]
    },
    {
      "cell_type": "code",
      "execution_count": null,
      "id": "b52721ed-3856-4bb1-ab98-3d48e3c0b610",
      "metadata": {
        "id": "b52721ed-3856-4bb1-ab98-3d48e3c0b610",
        "outputId": "bee339f7-48d6-415e-deb3-db32a56e0a6a"
      },
      "outputs": [
        {
          "name": "stdout",
          "output_type": "stream",
          "text": [
            "Numeric columns: Index(['Unnamed: 0', 'tempmax', 'tempmin', 'temp', 'feelslikemax',\n",
            "       'feelslikemin', 'feelslike', 'dew', 'humidity', 'precip', 'precipprob',\n",
            "       'precipcover', 'windgust', 'windspeed', 'winddir', 'sealevelpressure',\n",
            "       'cloudcover', 'visibility', 'solarradiation', 'solarenergy', 'uvindex',\n",
            "       'severerisk', 'moonphase'],\n",
            "      dtype='object')\n",
            "Non-numeric columns: Index(['name', 'datetime', 'preciptype', 'sunrise', 'sunset', 'conditions',\n",
            "       'description', 'icon', 'stations'],\n",
            "      dtype='object')\n"
          ]
        }
      ],
      "source": [
        "# Identify numeric columns\n",
        "numeric_cols = df.select_dtypes(include=[np.number]).columns\n",
        "\n",
        "# Identify non-numeric columns\n",
        "non_numeric_cols = df.select_dtypes(exclude=[np.number]).columns\n",
        "\n",
        "print(\"Numeric columns:\", numeric_cols)\n",
        "print(\"Non-numeric columns:\", non_numeric_cols)\n"
      ]
    },
    {
      "cell_type": "code",
      "execution_count": null,
      "id": "78cbd5d5-5736-4978-8b3e-826a29be452a",
      "metadata": {
        "id": "78cbd5d5-5736-4978-8b3e-826a29be452a",
        "outputId": "e710203a-9731-40ea-ca3e-1c5f119fea90"
      },
      "outputs": [
        {
          "data": {
            "text/plain": [
              "Unnamed: 0          0\n",
              "name                0\n",
              "datetime            0\n",
              "tempmax             0\n",
              "tempmin             0\n",
              "temp                0\n",
              "feelslikemax        0\n",
              "feelslikemin        0\n",
              "feelslike           0\n",
              "dew                 0\n",
              "humidity            0\n",
              "precip              0\n",
              "precipprob          0\n",
              "precipcover         0\n",
              "preciptype          0\n",
              "windgust            0\n",
              "windspeed           0\n",
              "winddir             0\n",
              "sealevelpressure    0\n",
              "cloudcover          0\n",
              "visibility          0\n",
              "solarradiation      0\n",
              "solarenergy         0\n",
              "uvindex             0\n",
              "severerisk          0\n",
              "sunrise             0\n",
              "sunset              0\n",
              "moonphase           0\n",
              "conditions          0\n",
              "description         0\n",
              "icon                0\n",
              "stations            0\n",
              "dtype: int64"
            ]
          },
          "execution_count": 39,
          "metadata": {},
          "output_type": "execute_result"
        }
      ],
      "source": [
        "# Fill missing values for numeric columns with mean\n",
        "df[numeric_cols] = df[numeric_cols].fillna(df[numeric_cols].mean())\n",
        "df.isnull().sum()"
      ]
    },
    {
      "cell_type": "code",
      "execution_count": null,
      "id": "75d2becb-a34c-4c42-ad9a-5108c081a3db",
      "metadata": {
        "id": "75d2becb-a34c-4c42-ad9a-5108c081a3db",
        "outputId": "88b5f490-141a-433f-ad15-3b2c6e1717b1"
      },
      "outputs": [
        {
          "data": {
            "text/plain": [
              "(7497, 32)"
            ]
          },
          "execution_count": 40,
          "metadata": {},
          "output_type": "execute_result"
        }
      ],
      "source": [
        "df.shape"
      ]
    },
    {
      "cell_type": "code",
      "execution_count": null,
      "id": "0cd1d7d9-c891-4542-be6e-8c63e6ae7625",
      "metadata": {
        "id": "0cd1d7d9-c891-4542-be6e-8c63e6ae7625"
      },
      "outputs": [],
      "source": []
    },
    {
      "cell_type": "markdown",
      "id": "573a60ba-4551-4d2a-831d-4503d7eae3e8",
      "metadata": {
        "id": "573a60ba-4551-4d2a-831d-4503d7eae3e8"
      },
      "source": [
        "## Data Visualization"
      ]
    },
    {
      "cell_type": "code",
      "execution_count": null,
      "id": "3fbe1634-1fa8-4c8b-915a-6986a6a02282",
      "metadata": {
        "id": "3fbe1634-1fa8-4c8b-915a-6986a6a02282",
        "outputId": "2905a41f-886c-4bba-de80-2b2bef97e476"
      },
      "outputs": [
        {
          "data": {
            "image/png": "[encoded data removed]",
            "text/plain": [
              "<Figure size 720x432 with 1 Axes>"
            ]
          },
          "metadata": {
            "needs_background": "light"
          },
          "output_type": "display_data"
        }
      ],
      "source": [
        "# Filter data for rain only\n",
        "rain_data = df[df['preciptype'] == 'rain']\n",
        "\n",
        "# Create new columns for the month and year\n",
        "rain_data['year'] = rain_data['datetime'].dt.year\n",
        "rain_data['month'] = rain_data['datetime'].dt.month\n",
        "\n",
        "# Count the number of rainy days per month for each year\n",
        "monthly_rain_counts = rain_data.groupby(['year', 'month']).size().unstack(fill_value=0)\n",
        "\n",
        "# Calculate the average number of rainy days per month over all years\n",
        "average_monthly_rain_counts = monthly_rain_counts.mean()\n",
        "\n",
        "# Plotting the average number of rainy days per month\n",
        "plt.figure(figsize=(10, 6))\n",
        "average_monthly_rain_counts.plot(kind='bar', color='blue')\n",
        "plt.title('Average Number of Rainy Days Per Month (Over All Years)')\n",
        "plt.xlabel('Month')\n",
        "plt.ylabel('Average Number of Rainy Days')\n",
        "plt.xticks(rotation=0)\n",
        "plt.show()"
      ]
    },
    {
      "cell_type": "markdown",
      "id": "e1062a03-94b1-48e8-bd0b-387480e130a4",
      "metadata": {
        "id": "e1062a03-94b1-48e8-bd0b-387480e130a4"
      },
      "source": [
        "### Finding dates, months and year with the most rain"
      ]
    },
    {
      "cell_type": "code",
      "execution_count": null,
      "id": "73fd2ef0-9b43-4e8d-ba01-f158808632b7",
      "metadata": {
        "id": "73fd2ef0-9b43-4e8d-ba01-f158808632b7",
        "outputId": "3f462742-e8c1-4cf9-c0dd-932a9f78e63f"
      },
      "outputs": [
        {
          "data": {
            "image/png": "[encoded data removed]",
            "text/plain": [
              "<Figure size 864x432 with 1 Axes>"
            ]
          },
          "metadata": {
            "needs_background": "light"
          },
          "output_type": "display_data"
        }
      ],
      "source": [
        "# Convert datetime column to datetime type\n",
        "df['datetime'] = pd.to_datetime(df['datetime'], errors='coerce')\n",
        "\n",
        "# Filter data for rain only\n",
        "rain_data = df[df['preciptype'] == 'rain']\n",
        "\n",
        "# Extract the year\n",
        "rain_data['year'] = rain_data['datetime'].dt.year\n",
        "\n",
        "# Count the number of rainy days per year\n",
        "yearly_rain_counts = rain_data['year'].value_counts().sort_index()\n",
        "\n",
        "# Sort the years by the number of rainy days\n",
        "sorted_yearly_rain_counts = yearly_rain_counts.sort_values(ascending=False)\n",
        "\n",
        "# Plotting the number of rainy days per year\n",
        "plt.figure(figsize=(12, 6))\n",
        "sorted_yearly_rain_counts.plot(kind='bar', color='blue')\n",
        "plt.title('Number of Rainy Days Per Year')\n",
        "plt.xlabel('Year')\n",
        "plt.ylabel('Number of Rainy Days')\n",
        "plt.xticks(rotation=45)\n",
        "plt.show()"
      ]
    },
    {
      "cell_type": "code",
      "execution_count": null,
      "id": "524f2ca8-5345-422e-b5b1-0dc7be9d6aa7",
      "metadata": {
        "id": "524f2ca8-5345-422e-b5b1-0dc7be9d6aa7",
        "outputId": "3f94f0e2-9312-4345-9e52-067f65e92110"
      },
      "outputs": [
        {
          "data": {
            "image/png": "[encoded data removed]",
            "text/plain": [
              "<Figure size 864x432 with 1 Axes>"
            ]
          },
          "metadata": {
            "needs_background": "light"
          },
          "output_type": "display_data"
        }
      ],
      "source": [
        "# Count the number of flood occurrences per year\n",
        "yearly_flood_counts = flood['Year'].value_counts().sort_index()\n",
        "\n",
        "# Plotting the number of flood occurrences per year\n",
        "plt.figure(figsize=(12, 6))\n",
        "sns.barplot(x=yearly_flood_counts.index, y=yearly_flood_counts.values, palette='viridis')\n",
        "plt.title('Number of Flood Occurrences Per Year')\n",
        "plt.xlabel('Year')\n",
        "plt.ylabel('Number of Flood Occurrences')\n",
        "plt.xticks(rotation=45)\n",
        "plt.show()\n"
      ]
    },
    {
      "cell_type": "code",
      "execution_count": null,
      "id": "dffbf668-1e0f-45b9-b7ef-a295bc8059a8",
      "metadata": {
        "id": "dffbf668-1e0f-45b9-b7ef-a295bc8059a8",
        "outputId": "9a1e8947-f9b8-4515-8dfc-f6d650d1caec"
      },
      "outputs": [
        {
          "data": {
            "image/png": "[encoded data removed]",
            "text/plain": [
              "<Figure size 864x432 with 1 Axes>"
            ]
          },
          "metadata": {
            "needs_background": "light"
          },
          "output_type": "display_data"
        }
      ],
      "source": [
        "# Count the number of flood occurrences per month\n",
        "monthly_flood_counts = flood['Month'].value_counts().sort_index()\n",
        "\n",
        "# Convert month names to categorical type to maintain order\n",
        "month_order = ['January', 'February', 'March', 'April', 'May', 'June', 'July', 'August', 'September', 'October', 'November', 'December']\n",
        "flood['Month'] = pd.Categorical(flood['Month'], categories=month_order, ordered=True)\n",
        "\n",
        "# Recalculate monthly flood counts to ensure correct order\n",
        "monthly_flood_counts = flood['Month'].value_counts().sort_index()\n",
        "\n",
        "# Plotting the number of flood occurrences per month\n",
        "plt.figure(figsize=(12, 6))\n",
        "sns.barplot(x=monthly_flood_counts.index, y=monthly_flood_counts.values, palette='viridis')\n",
        "plt.title('Number of Flood Occurrences Per Month')\n",
        "plt.xlabel('Month')\n",
        "plt.ylabel('Number of Flood Occurrences')\n",
        "plt.xticks(rotation=45)\n",
        "plt.show()\n"
      ]
    },
    {
      "cell_type": "code",
      "execution_count": null,
      "id": "89431298-ca3d-41a4-92ba-411f8c269451",
      "metadata": {
        "id": "89431298-ca3d-41a4-92ba-411f8c269451",
        "outputId": "ddd94336-644d-45a5-aceb-21a565766462"
      },
      "outputs": [
        {
          "data": {
            "text/html": [
              "<div>\n",
              "<style scoped>\n",
              "    .dataframe tbody tr th:only-of-type {\n",
              "        vertical-align: middle;\n",
              "    }\n",
              "\n",
              "    .dataframe tbody tr th {\n",
              "        vertical-align: top;\n",
              "    }\n",
              "\n",
              "    .dataframe thead th {\n",
              "        text-align: right;\n",
              "    }\n",
              "</style>\n",
              "<table border=\"1\" class=\"dataframe\">\n",
              "  <thead>\n",
              "    <tr style=\"text-align: right;\">\n",
              "      <th></th>\n",
              "      <th>Year</th>\n",
              "      <th>Month</th>\n",
              "      <th>Event</th>\n",
              "      <th>Impact Areas</th>\n",
              "    </tr>\n",
              "  </thead>\n",
              "  <tbody>\n",
              "    <tr>\n",
              "      <th>0</th>\n",
              "      <td>2009</td>\n",
              "      <td>July</td>\n",
              "      <td>Flood</td>\n",
              "      <td>Lagos island, Ikoyi, VI, Lekki</td>\n",
              "    </tr>\n",
              "    <tr>\n",
              "      <th>1</th>\n",
              "      <td>2009</td>\n",
              "      <td>October</td>\n",
              "      <td>Flood</td>\n",
              "      <td>Surulere, Lagos island, Ikorodu</td>\n",
              "    </tr>\n",
              "    <tr>\n",
              "      <th>2</th>\n",
              "      <td>2010</td>\n",
              "      <td>June</td>\n",
              "      <td>Flood</td>\n",
              "      <td>Ijagemo and environs</td>\n",
              "    </tr>\n",
              "    <tr>\n",
              "      <th>3</th>\n",
              "      <td>2010</td>\n",
              "      <td>July</td>\n",
              "      <td>Flood</td>\n",
              "      <td>Surulere, Lagos island, VI</td>\n",
              "    </tr>\n",
              "    <tr>\n",
              "      <th>4</th>\n",
              "      <td>2010</td>\n",
              "      <td>August</td>\n",
              "      <td>Flood</td>\n",
              "      <td>Ajegunle, Mushin, Ajah</td>\n",
              "    </tr>\n",
              "    <tr>\n",
              "      <th>5</th>\n",
              "      <td>2011</td>\n",
              "      <td>July</td>\n",
              "      <td>Flood</td>\n",
              "      <td>Surulere, Lagos island, Ikorodu</td>\n",
              "    </tr>\n",
              "    <tr>\n",
              "      <th>6</th>\n",
              "      <td>2012</td>\n",
              "      <td>June</td>\n",
              "      <td>Flood</td>\n",
              "      <td>Ikeja, Shogunle</td>\n",
              "    </tr>\n",
              "    <tr>\n",
              "      <th>7</th>\n",
              "      <td>2012</td>\n",
              "      <td>July</td>\n",
              "      <td>Flood</td>\n",
              "      <td>VI, Lekki, Ajah, Ikorodu</td>\n",
              "    </tr>\n",
              "    <tr>\n",
              "      <th>8</th>\n",
              "      <td>2013</td>\n",
              "      <td>July</td>\n",
              "      <td>Flood</td>\n",
              "      <td>Lagos island, Surulere, Agege</td>\n",
              "    </tr>\n",
              "    <tr>\n",
              "      <th>9</th>\n",
              "      <td>2014</td>\n",
              "      <td>April</td>\n",
              "      <td>Flood</td>\n",
              "      <td>Oshodi, Apapa,Sururlere</td>\n",
              "    </tr>\n",
              "    <tr>\n",
              "      <th>10</th>\n",
              "      <td>2014</td>\n",
              "      <td>June</td>\n",
              "      <td>Flood</td>\n",
              "      <td>Leki, Vi, Ikoyi</td>\n",
              "    </tr>\n",
              "    <tr>\n",
              "      <th>11</th>\n",
              "      <td>2014</td>\n",
              "      <td>July</td>\n",
              "      <td>Flood</td>\n",
              "      <td>Leki, Vi, Ikoyi &amp; environs</td>\n",
              "    </tr>\n",
              "    <tr>\n",
              "      <th>12</th>\n",
              "      <td>2015</td>\n",
              "      <td>June</td>\n",
              "      <td>Flood</td>\n",
              "      <td>Leki, Vi, Ikoyi</td>\n",
              "    </tr>\n",
              "    <tr>\n",
              "      <th>13</th>\n",
              "      <td>2015</td>\n",
              "      <td>July</td>\n",
              "      <td>Flood</td>\n",
              "      <td>Lagos environs</td>\n",
              "    </tr>\n",
              "    <tr>\n",
              "      <th>14</th>\n",
              "      <td>2016</td>\n",
              "      <td>June</td>\n",
              "      <td>Flood</td>\n",
              "      <td>Lekki, VI, Ikorodu</td>\n",
              "    </tr>\n",
              "    <tr>\n",
              "      <th>15</th>\n",
              "      <td>2016</td>\n",
              "      <td>July</td>\n",
              "      <td>Flood</td>\n",
              "      <td>Park view, Bananna Island</td>\n",
              "    </tr>\n",
              "    <tr>\n",
              "      <th>16</th>\n",
              "      <td>2017</td>\n",
              "      <td>July</td>\n",
              "      <td>Flood</td>\n",
              "      <td>Ajah, Lekki, Vi</td>\n",
              "    </tr>\n",
              "    <tr>\n",
              "      <th>17</th>\n",
              "      <td>2018</td>\n",
              "      <td>March</td>\n",
              "      <td>Flood</td>\n",
              "      <td>Alajbade</td>\n",
              "    </tr>\n",
              "    <tr>\n",
              "      <th>18</th>\n",
              "      <td>2018</td>\n",
              "      <td>June</td>\n",
              "      <td>Flood</td>\n",
              "      <td>Lekki, Ajah</td>\n",
              "    </tr>\n",
              "    <tr>\n",
              "      <th>19</th>\n",
              "      <td>2018</td>\n",
              "      <td>July</td>\n",
              "      <td>Flood</td>\n",
              "      <td>Lagos environs</td>\n",
              "    </tr>\n",
              "    <tr>\n",
              "      <th>20</th>\n",
              "      <td>2019</td>\n",
              "      <td>October</td>\n",
              "      <td>Flood</td>\n",
              "      <td>Lekki, Agege</td>\n",
              "    </tr>\n",
              "    <tr>\n",
              "      <th>21</th>\n",
              "      <td>2020</td>\n",
              "      <td>June</td>\n",
              "      <td>Flood</td>\n",
              "      <td>Agege, Ikeja</td>\n",
              "    </tr>\n",
              "    <tr>\n",
              "      <th>22</th>\n",
              "      <td>2020</td>\n",
              "      <td>July</td>\n",
              "      <td>Flood</td>\n",
              "      <td>Lagos environs</td>\n",
              "    </tr>\n",
              "    <tr>\n",
              "      <th>23</th>\n",
              "      <td>2021</td>\n",
              "      <td>July</td>\n",
              "      <td>Flood</td>\n",
              "      <td>Lekki, Ajah, VI</td>\n",
              "    </tr>\n",
              "    <tr>\n",
              "      <th>24</th>\n",
              "      <td>2021</td>\n",
              "      <td>September</td>\n",
              "      <td>Flood</td>\n",
              "      <td>Alaba, Lekki, Agege</td>\n",
              "    </tr>\n",
              "    <tr>\n",
              "      <th>25</th>\n",
              "      <td>2022</td>\n",
              "      <td>July</td>\n",
              "      <td>Flood</td>\n",
              "      <td>Alimosho, Agege</td>\n",
              "    </tr>\n",
              "    <tr>\n",
              "      <th>26</th>\n",
              "      <td>2022</td>\n",
              "      <td>September</td>\n",
              "      <td>Flood</td>\n",
              "      <td>Lagos environs</td>\n",
              "    </tr>\n",
              "    <tr>\n",
              "      <th>27</th>\n",
              "      <td>2023</td>\n",
              "      <td>September</td>\n",
              "      <td>Flood</td>\n",
              "      <td>Lagos environs</td>\n",
              "    </tr>\n",
              "  </tbody>\n",
              "</table>\n",
              "</div>"
            ],
            "text/plain": [
              "    Year      Month  Event                     Impact Areas\n",
              "0   2009       July  Flood   Lagos island, Ikoyi, VI, Lekki\n",
              "1   2009    October  Flood  Surulere, Lagos island, Ikorodu\n",
              "2   2010       June  Flood             Ijagemo and environs\n",
              "3   2010       July  Flood       Surulere, Lagos island, VI\n",
              "4   2010     August  Flood           Ajegunle, Mushin, Ajah\n",
              "5   2011       July  Flood  Surulere, Lagos island, Ikorodu\n",
              "6   2012       June  Flood                  Ikeja, Shogunle\n",
              "7   2012       July  Flood         VI, Lekki, Ajah, Ikorodu\n",
              "8   2013       July  Flood    Lagos island, Surulere, Agege\n",
              "9   2014      April  Flood          Oshodi, Apapa,Sururlere\n",
              "10  2014       June  Flood                  Leki, Vi, Ikoyi\n",
              "11  2014       July  Flood       Leki, Vi, Ikoyi & environs\n",
              "12  2015       June  Flood                  Leki, Vi, Ikoyi\n",
              "13  2015       July  Flood                   Lagos environs\n",
              "14  2016       June  Flood               Lekki, VI, Ikorodu\n",
              "15  2016       July  Flood        Park view, Bananna Island\n",
              "16  2017       July  Flood                  Ajah, Lekki, Vi\n",
              "17  2018      March  Flood                         Alajbade\n",
              "18  2018       June  Flood                      Lekki, Ajah\n",
              "19  2018       July  Flood                   Lagos environs\n",
              "20  2019    October  Flood                     Lekki, Agege\n",
              "21  2020       June  Flood                     Agege, Ikeja\n",
              "22  2020       July  Flood                   Lagos environs\n",
              "23  2021       July  Flood                  Lekki, Ajah, VI\n",
              "24  2021  September  Flood              Alaba, Lekki, Agege\n",
              "25  2022       July  Flood                  Alimosho, Agege\n",
              "26  2022  September  Flood                   Lagos environs\n",
              "27  2023  September  Flood                   Lagos environs"
            ]
          },
          "execution_count": 45,
          "metadata": {},
          "output_type": "execute_result"
        }
      ],
      "source": [
        "flood"
      ]
    },
    {
      "cell_type": "markdown",
      "id": "496b093c-a5cf-4eeb-9386-ca2ef5cf5fb7",
      "metadata": {
        "id": "496b093c-a5cf-4eeb-9386-ca2ef5cf5fb7"
      },
      "source": [
        "## Building Models for Prediction"
      ]
    },
    {
      "cell_type": "code",
      "execution_count": null,
      "id": "2894b12f-ea38-4422-bea6-f16539e24636",
      "metadata": {
        "id": "2894b12f-ea38-4422-bea6-f16539e24636"
      },
      "outputs": [],
      "source": [
        "\n",
        "# Drop the 'Impact Area' column\n",
        "flood.drop(columns=['Impact Areas'], inplace=True)\n"
      ]
    },
    {
      "cell_type": "code",
      "execution_count": null,
      "id": "c22da008-2cfe-4e8f-bf15-9e08c16a25f1",
      "metadata": {
        "id": "c22da008-2cfe-4e8f-bf15-9e08c16a25f1",
        "outputId": "6293aab0-0115-4140-d466-48a5dfe38112"
      },
      "outputs": [
        {
          "name": "stdout",
          "output_type": "stream",
          "text": [
            "Month column after mapping:\n",
            " 0     7\n",
            "1    10\n",
            "2     6\n",
            "3     7\n",
            "4     8\n",
            "Name: Month, dtype: category\n",
            "Categories (12, int64): [1 < 2 < 3 < 4 ... 9 < 10 < 11 < 12]\n",
            "Date column after conversion:\n",
            " 0   2009-07-01\n",
            "1   2009-10-01\n",
            "2   2010-06-01\n",
            "3   2010-07-01\n",
            "4   2010-08-01\n",
            "Name: Date, dtype: datetime64[ns]\n",
            "Flood data after dropping NaT:\n",
            "    Year Month  Event       Date\n",
            "0  2009     7  Flood 2009-07-01\n",
            "1  2009    10  Flood 2009-10-01\n",
            "2  2010     6  Flood 2010-06-01\n",
            "3  2010     7  Flood 2010-07-01\n",
            "4  2010     8  Flood 2010-08-01\n"
          ]
        },
        {
          "ename": "TypeError",
          "evalue": "category type does not support sum operations",
          "output_type": "error",
          "traceback": [
            "\u001b[1;31m---------------------------------------------------------------------------\u001b[0m",
            "\u001b[1;31mTypeError\u001b[0m                                 Traceback (most recent call last)",
            "\u001b[1;32m~\\AppData\\Local\\Temp/ipykernel_17688/1244488607.py\u001b[0m in \u001b[0;36m<module>\u001b[1;34m\u001b[0m\n\u001b[0;32m     20\u001b[0m \u001b[1;31m# Create a daily frequency flood occurrence DataFrame\u001b[0m\u001b[1;33m\u001b[0m\u001b[1;33m\u001b[0m\u001b[0m\n\u001b[0;32m     21\u001b[0m \u001b[0mflood\u001b[0m\u001b[1;33m[\u001b[0m\u001b[1;34m'Flood_Occurrence'\u001b[0m\u001b[1;33m]\u001b[0m \u001b[1;33m=\u001b[0m \u001b[1;36m1\u001b[0m\u001b[1;33m\u001b[0m\u001b[1;33m\u001b[0m\u001b[0m\n\u001b[1;32m---> 22\u001b[1;33m \u001b[0mflood_daily\u001b[0m \u001b[1;33m=\u001b[0m \u001b[0mflood\u001b[0m\u001b[1;33m.\u001b[0m\u001b[0mset_index\u001b[0m\u001b[1;33m(\u001b[0m\u001b[1;34m'Date'\u001b[0m\u001b[1;33m)\u001b[0m\u001b[1;33m.\u001b[0m\u001b[0mresample\u001b[0m\u001b[1;33m(\u001b[0m\u001b[1;34m'D'\u001b[0m\u001b[1;33m)\u001b[0m\u001b[1;33m.\u001b[0m\u001b[0msum\u001b[0m\u001b[1;33m(\u001b[0m\u001b[1;33m)\u001b[0m\u001b[1;33m.\u001b[0m\u001b[0mreset_index\u001b[0m\u001b[1;33m(\u001b[0m\u001b[1;33m)\u001b[0m\u001b[1;33m\u001b[0m\u001b[1;33m\u001b[0m\u001b[0m\n\u001b[0m\u001b[0;32m     23\u001b[0m \u001b[0mflood_daily\u001b[0m\u001b[1;33m[\u001b[0m\u001b[1;34m'Flood_Occurrence'\u001b[0m\u001b[1;33m]\u001b[0m \u001b[1;33m=\u001b[0m \u001b[0mflood_daily\u001b[0m\u001b[1;33m[\u001b[0m\u001b[1;34m'Flood_Occurrence'\u001b[0m\u001b[1;33m]\u001b[0m\u001b[1;33m.\u001b[0m\u001b[0mapply\u001b[0m\u001b[1;33m(\u001b[0m\u001b[1;32mlambda\u001b[0m \u001b[0mx\u001b[0m\u001b[1;33m:\u001b[0m \u001b[1;36m1\u001b[0m \u001b[1;32mif\u001b[0m \u001b[0mx\u001b[0m \u001b[1;33m>\u001b[0m \u001b[1;36m0\u001b[0m \u001b[1;32melse\u001b[0m \u001b[1;36m0\u001b[0m\u001b[1;33m)\u001b[0m\u001b[1;33m\u001b[0m\u001b[1;33m\u001b[0m\u001b[0m\n\u001b[0;32m     24\u001b[0m \u001b[1;33m\u001b[0m\u001b[0m\n",
            "\u001b[1;32m~\\anaconda3\\lib\\site-packages\\pandas\\core\\resample.py\u001b[0m in \u001b[0;36msum\u001b[1;34m(self, numeric_only, min_count, *args, **kwargs)\u001b[0m\n\u001b[0;32m   1182\u001b[0m         \u001b[0mmaybe_warn_args_and_kwargs\u001b[0m\u001b[1;33m(\u001b[0m\u001b[0mtype\u001b[0m\u001b[1;33m(\u001b[0m\u001b[0mself\u001b[0m\u001b[1;33m)\u001b[0m\u001b[1;33m,\u001b[0m \u001b[1;34m\"sum\"\u001b[0m\u001b[1;33m,\u001b[0m \u001b[0margs\u001b[0m\u001b[1;33m,\u001b[0m \u001b[0mkwargs\u001b[0m\u001b[1;33m)\u001b[0m\u001b[1;33m\u001b[0m\u001b[1;33m\u001b[0m\u001b[0m\n\u001b[0;32m   1183\u001b[0m         \u001b[0mnv\u001b[0m\u001b[1;33m.\u001b[0m\u001b[0mvalidate_resampler_func\u001b[0m\u001b[1;33m(\u001b[0m\u001b[1;34m\"sum\"\u001b[0m\u001b[1;33m,\u001b[0m \u001b[0margs\u001b[0m\u001b[1;33m,\u001b[0m \u001b[0mkwargs\u001b[0m\u001b[1;33m)\u001b[0m\u001b[1;33m\u001b[0m\u001b[1;33m\u001b[0m\u001b[0m\n\u001b[1;32m-> 1184\u001b[1;33m         \u001b[1;32mreturn\u001b[0m \u001b[0mself\u001b[0m\u001b[1;33m.\u001b[0m\u001b[0m_downsample\u001b[0m\u001b[1;33m(\u001b[0m\u001b[1;34m\"sum\"\u001b[0m\u001b[1;33m,\u001b[0m \u001b[0mnumeric_only\u001b[0m\u001b[1;33m=\u001b[0m\u001b[0mnumeric_only\u001b[0m\u001b[1;33m,\u001b[0m \u001b[0mmin_count\u001b[0m\u001b[1;33m=\u001b[0m\u001b[0mmin_count\u001b[0m\u001b[1;33m)\u001b[0m\u001b[1;33m\u001b[0m\u001b[1;33m\u001b[0m\u001b[0m\n\u001b[0m\u001b[0;32m   1185\u001b[0m \u001b[1;33m\u001b[0m\u001b[0m\n\u001b[0;32m   1186\u001b[0m     \u001b[1;33m@\u001b[0m\u001b[0mfinal\u001b[0m\u001b[1;33m\u001b[0m\u001b[1;33m\u001b[0m\u001b[0m\n",
            "\u001b[1;32m~\\anaconda3\\lib\\site-packages\\pandas\\core\\resample.py\u001b[0m in \u001b[0;36m_downsample\u001b[1;34m(self, how, **kwargs)\u001b[0m\n\u001b[0;32m   1780\u001b[0m         \u001b[1;31m# we want to call the actual grouper method here\u001b[0m\u001b[1;33m\u001b[0m\u001b[1;33m\u001b[0m\u001b[0m\n\u001b[0;32m   1781\u001b[0m         \u001b[1;32mif\u001b[0m \u001b[0mself\u001b[0m\u001b[1;33m.\u001b[0m\u001b[0maxis\u001b[0m \u001b[1;33m==\u001b[0m \u001b[1;36m0\u001b[0m\u001b[1;33m:\u001b[0m\u001b[1;33m\u001b[0m\u001b[1;33m\u001b[0m\u001b[0m\n\u001b[1;32m-> 1782\u001b[1;33m             \u001b[0mresult\u001b[0m \u001b[1;33m=\u001b[0m \u001b[0mobj\u001b[0m\u001b[1;33m.\u001b[0m\u001b[0mgroupby\u001b[0m\u001b[1;33m(\u001b[0m\u001b[0mself\u001b[0m\u001b[1;33m.\u001b[0m\u001b[0m_grouper\u001b[0m\u001b[1;33m)\u001b[0m\u001b[1;33m.\u001b[0m\u001b[0maggregate\u001b[0m\u001b[1;33m(\u001b[0m\u001b[0mhow\u001b[0m\u001b[1;33m,\u001b[0m \u001b[1;33m**\u001b[0m\u001b[0mkwargs\u001b[0m\u001b[1;33m)\u001b[0m\u001b[1;33m\u001b[0m\u001b[1;33m\u001b[0m\u001b[0m\n\u001b[0m\u001b[0;32m   1783\u001b[0m         \u001b[1;32melse\u001b[0m\u001b[1;33m:\u001b[0m\u001b[1;33m\u001b[0m\u001b[1;33m\u001b[0m\u001b[0m\n\u001b[0;32m   1784\u001b[0m             \u001b[1;31m# test_resample_axis1\u001b[0m\u001b[1;33m\u001b[0m\u001b[1;33m\u001b[0m\u001b[0m\n",
            "\u001b[1;32m~\\anaconda3\\lib\\site-packages\\pandas\\core\\groupby\\generic.py\u001b[0m in \u001b[0;36maggregate\u001b[1;34m(self, func, engine, engine_kwargs, *args, **kwargs)\u001b[0m\n\u001b[0;32m   1430\u001b[0m \u001b[1;33m\u001b[0m\u001b[0m\n\u001b[0;32m   1431\u001b[0m         \u001b[0mop\u001b[0m \u001b[1;33m=\u001b[0m \u001b[0mGroupByApply\u001b[0m\u001b[1;33m(\u001b[0m\u001b[0mself\u001b[0m\u001b[1;33m,\u001b[0m \u001b[0mfunc\u001b[0m\u001b[1;33m,\u001b[0m \u001b[0margs\u001b[0m\u001b[1;33m=\u001b[0m\u001b[0margs\u001b[0m\u001b[1;33m,\u001b[0m \u001b[0mkwargs\u001b[0m\u001b[1;33m=\u001b[0m\u001b[0mkwargs\u001b[0m\u001b[1;33m)\u001b[0m\u001b[1;33m\u001b[0m\u001b[1;33m\u001b[0m\u001b[0m\n\u001b[1;32m-> 1432\u001b[1;33m         \u001b[0mresult\u001b[0m \u001b[1;33m=\u001b[0m \u001b[0mop\u001b[0m\u001b[1;33m.\u001b[0m\u001b[0magg\u001b[0m\u001b[1;33m(\u001b[0m\u001b[1;33m)\u001b[0m\u001b[1;33m\u001b[0m\u001b[1;33m\u001b[0m\u001b[0m\n\u001b[0m\u001b[0;32m   1433\u001b[0m         \u001b[1;32mif\u001b[0m \u001b[1;32mnot\u001b[0m \u001b[0mis_dict_like\u001b[0m\u001b[1;33m(\u001b[0m\u001b[0mfunc\u001b[0m\u001b[1;33m)\u001b[0m \u001b[1;32mand\u001b[0m \u001b[0mresult\u001b[0m \u001b[1;32mis\u001b[0m \u001b[1;32mnot\u001b[0m \u001b[1;32mNone\u001b[0m\u001b[1;33m:\u001b[0m\u001b[1;33m\u001b[0m\u001b[1;33m\u001b[0m\u001b[0m\n\u001b[0;32m   1434\u001b[0m             \u001b[1;31m# GH #52849\u001b[0m\u001b[1;33m\u001b[0m\u001b[1;33m\u001b[0m\u001b[0m\n",
            "\u001b[1;32m~\\anaconda3\\lib\\site-packages\\pandas\\core\\apply.py\u001b[0m in \u001b[0;36magg\u001b[1;34m(self)\u001b[0m\n\u001b[0;32m    185\u001b[0m \u001b[1;33m\u001b[0m\u001b[0m\n\u001b[0;32m    186\u001b[0m         \u001b[1;32mif\u001b[0m \u001b[0misinstance\u001b[0m\u001b[1;33m(\u001b[0m\u001b[0mfunc\u001b[0m\u001b[1;33m,\u001b[0m \u001b[0mstr\u001b[0m\u001b[1;33m)\u001b[0m\u001b[1;33m:\u001b[0m\u001b[1;33m\u001b[0m\u001b[1;33m\u001b[0m\u001b[0m\n\u001b[1;32m--> 187\u001b[1;33m             \u001b[1;32mreturn\u001b[0m \u001b[0mself\u001b[0m\u001b[1;33m.\u001b[0m\u001b[0mapply_str\u001b[0m\u001b[1;33m(\u001b[0m\u001b[1;33m)\u001b[0m\u001b[1;33m\u001b[0m\u001b[1;33m\u001b[0m\u001b[0m\n\u001b[0m\u001b[0;32m    188\u001b[0m \u001b[1;33m\u001b[0m\u001b[0m\n\u001b[0;32m    189\u001b[0m         \u001b[1;32mif\u001b[0m \u001b[0mis_dict_like\u001b[0m\u001b[1;33m(\u001b[0m\u001b[0mfunc\u001b[0m\u001b[1;33m)\u001b[0m\u001b[1;33m:\u001b[0m\u001b[1;33m\u001b[0m\u001b[1;33m\u001b[0m\u001b[0m\n",
            "\u001b[1;32m~\\anaconda3\\lib\\site-packages\\pandas\\core\\apply.py\u001b[0m in \u001b[0;36mapply_str\u001b[1;34m(self)\u001b[0m\n\u001b[0;32m    601\u001b[0m                 \u001b[1;32melse\u001b[0m\u001b[1;33m:\u001b[0m\u001b[1;33m\u001b[0m\u001b[1;33m\u001b[0m\u001b[0m\n\u001b[0;32m    602\u001b[0m                     \u001b[0mself\u001b[0m\u001b[1;33m.\u001b[0m\u001b[0mkwargs\u001b[0m\u001b[1;33m[\u001b[0m\u001b[1;34m\"axis\"\u001b[0m\u001b[1;33m]\u001b[0m \u001b[1;33m=\u001b[0m \u001b[0mself\u001b[0m\u001b[1;33m.\u001b[0m\u001b[0maxis\u001b[0m\u001b[1;33m\u001b[0m\u001b[1;33m\u001b[0m\u001b[0m\n\u001b[1;32m--> 603\u001b[1;33m         \u001b[1;32mreturn\u001b[0m \u001b[0mself\u001b[0m\u001b[1;33m.\u001b[0m\u001b[0m_apply_str\u001b[0m\u001b[1;33m(\u001b[0m\u001b[0mobj\u001b[0m\u001b[1;33m,\u001b[0m \u001b[0mfunc\u001b[0m\u001b[1;33m,\u001b[0m \u001b[1;33m*\u001b[0m\u001b[0mself\u001b[0m\u001b[1;33m.\u001b[0m\u001b[0margs\u001b[0m\u001b[1;33m,\u001b[0m \u001b[1;33m**\u001b[0m\u001b[0mself\u001b[0m\u001b[1;33m.\u001b[0m\u001b[0mkwargs\u001b[0m\u001b[1;33m)\u001b[0m\u001b[1;33m\u001b[0m\u001b[1;33m\u001b[0m\u001b[0m\n\u001b[0m\u001b[0;32m    604\u001b[0m \u001b[1;33m\u001b[0m\u001b[0m\n\u001b[0;32m    605\u001b[0m     \u001b[1;32mdef\u001b[0m \u001b[0mapply_list_or_dict_like\u001b[0m\u001b[1;33m(\u001b[0m\u001b[0mself\u001b[0m\u001b[1;33m)\u001b[0m \u001b[1;33m->\u001b[0m \u001b[0mDataFrame\u001b[0m \u001b[1;33m|\u001b[0m \u001b[0mSeries\u001b[0m\u001b[1;33m:\u001b[0m\u001b[1;33m\u001b[0m\u001b[1;33m\u001b[0m\u001b[0m\n",
            "\u001b[1;32m~\\anaconda3\\lib\\site-packages\\pandas\\core\\apply.py\u001b[0m in \u001b[0;36m_apply_str\u001b[1;34m(self, obj, func, *args, **kwargs)\u001b[0m\n\u001b[0;32m    691\u001b[0m             \u001b[0mf\u001b[0m \u001b[1;33m=\u001b[0m \u001b[0mgetattr\u001b[0m\u001b[1;33m(\u001b[0m\u001b[0mobj\u001b[0m\u001b[1;33m,\u001b[0m \u001b[0mfunc\u001b[0m\u001b[1;33m)\u001b[0m\u001b[1;33m\u001b[0m\u001b[1;33m\u001b[0m\u001b[0m\n\u001b[0;32m    692\u001b[0m             \u001b[1;32mif\u001b[0m \u001b[0mcallable\u001b[0m\u001b[1;33m(\u001b[0m\u001b[0mf\u001b[0m\u001b[1;33m)\u001b[0m\u001b[1;33m:\u001b[0m\u001b[1;33m\u001b[0m\u001b[1;33m\u001b[0m\u001b[0m\n\u001b[1;32m--> 693\u001b[1;33m                 \u001b[1;32mreturn\u001b[0m \u001b[0mf\u001b[0m\u001b[1;33m(\u001b[0m\u001b[1;33m*\u001b[0m\u001b[0margs\u001b[0m\u001b[1;33m,\u001b[0m \u001b[1;33m**\u001b[0m\u001b[0mkwargs\u001b[0m\u001b[1;33m)\u001b[0m\u001b[1;33m\u001b[0m\u001b[1;33m\u001b[0m\u001b[0m\n\u001b[0m\u001b[0;32m    694\u001b[0m \u001b[1;33m\u001b[0m\u001b[0m\n\u001b[0;32m    695\u001b[0m             \u001b[1;31m# people may aggregate on a non-callable attribute\u001b[0m\u001b[1;33m\u001b[0m\u001b[1;33m\u001b[0m\u001b[0m\n",
            "\u001b[1;32m~\\anaconda3\\lib\\site-packages\\pandas\\core\\groupby\\groupby.py\u001b[0m in \u001b[0;36msum\u001b[1;34m(self, numeric_only, min_count, engine, engine_kwargs)\u001b[0m\n\u001b[0;32m   3144\u001b[0m             \u001b[1;31m# _agg_general() returns. GH #31422\u001b[0m\u001b[1;33m\u001b[0m\u001b[1;33m\u001b[0m\u001b[0m\n\u001b[0;32m   3145\u001b[0m             \u001b[1;32mwith\u001b[0m \u001b[0mcom\u001b[0m\u001b[1;33m.\u001b[0m\u001b[0mtemp_setattr\u001b[0m\u001b[1;33m(\u001b[0m\u001b[0mself\u001b[0m\u001b[1;33m,\u001b[0m \u001b[1;34m\"observed\"\u001b[0m\u001b[1;33m,\u001b[0m \u001b[1;32mTrue\u001b[0m\u001b[1;33m)\u001b[0m\u001b[1;33m:\u001b[0m\u001b[1;33m\u001b[0m\u001b[1;33m\u001b[0m\u001b[0m\n\u001b[1;32m-> 3146\u001b[1;33m                 result = self._agg_general(\n\u001b[0m\u001b[0;32m   3147\u001b[0m                     \u001b[0mnumeric_only\u001b[0m\u001b[1;33m=\u001b[0m\u001b[0mnumeric_only\u001b[0m\u001b[1;33m,\u001b[0m\u001b[1;33m\u001b[0m\u001b[1;33m\u001b[0m\u001b[0m\n\u001b[0;32m   3148\u001b[0m                     \u001b[0mmin_count\u001b[0m\u001b[1;33m=\u001b[0m\u001b[0mmin_count\u001b[0m\u001b[1;33m,\u001b[0m\u001b[1;33m\u001b[0m\u001b[1;33m\u001b[0m\u001b[0m\n",
            "\u001b[1;32m~\\anaconda3\\lib\\site-packages\\pandas\\core\\groupby\\groupby.py\u001b[0m in \u001b[0;36m_agg_general\u001b[1;34m(self, numeric_only, min_count, alias, npfunc, **kwargs)\u001b[0m\n\u001b[0;32m   1904\u001b[0m         \u001b[1;33m**\u001b[0m\u001b[0mkwargs\u001b[0m\u001b[1;33m,\u001b[0m\u001b[1;33m\u001b[0m\u001b[1;33m\u001b[0m\u001b[0m\n\u001b[0;32m   1905\u001b[0m     ):\n\u001b[1;32m-> 1906\u001b[1;33m         result = self._cython_agg_general(\n\u001b[0m\u001b[0;32m   1907\u001b[0m             \u001b[0mhow\u001b[0m\u001b[1;33m=\u001b[0m\u001b[0malias\u001b[0m\u001b[1;33m,\u001b[0m\u001b[1;33m\u001b[0m\u001b[1;33m\u001b[0m\u001b[0m\n\u001b[0;32m   1908\u001b[0m             \u001b[0malt\u001b[0m\u001b[1;33m=\u001b[0m\u001b[0mnpfunc\u001b[0m\u001b[1;33m,\u001b[0m\u001b[1;33m\u001b[0m\u001b[1;33m\u001b[0m\u001b[0m\n",
            "\u001b[1;32m~\\anaconda3\\lib\\site-packages\\pandas\\core\\groupby\\groupby.py\u001b[0m in \u001b[0;36m_cython_agg_general\u001b[1;34m(self, how, alt, numeric_only, min_count, **kwargs)\u001b[0m\n\u001b[0;32m   1996\u001b[0m             \u001b[1;32mreturn\u001b[0m \u001b[0mresult\u001b[0m\u001b[1;33m\u001b[0m\u001b[1;33m\u001b[0m\u001b[0m\n\u001b[0;32m   1997\u001b[0m \u001b[1;33m\u001b[0m\u001b[0m\n\u001b[1;32m-> 1998\u001b[1;33m         \u001b[0mnew_mgr\u001b[0m \u001b[1;33m=\u001b[0m \u001b[0mdata\u001b[0m\u001b[1;33m.\u001b[0m\u001b[0mgrouped_reduce\u001b[0m\u001b[1;33m(\u001b[0m\u001b[0marray_func\u001b[0m\u001b[1;33m)\u001b[0m\u001b[1;33m\u001b[0m\u001b[1;33m\u001b[0m\u001b[0m\n\u001b[0m\u001b[0;32m   1999\u001b[0m         \u001b[0mres\u001b[0m \u001b[1;33m=\u001b[0m \u001b[0mself\u001b[0m\u001b[1;33m.\u001b[0m\u001b[0m_wrap_agged_manager\u001b[0m\u001b[1;33m(\u001b[0m\u001b[0mnew_mgr\u001b[0m\u001b[1;33m)\u001b[0m\u001b[1;33m\u001b[0m\u001b[1;33m\u001b[0m\u001b[0m\n\u001b[0;32m   2000\u001b[0m         \u001b[1;32mif\u001b[0m \u001b[0mhow\u001b[0m \u001b[1;32min\u001b[0m \u001b[1;33m[\u001b[0m\u001b[1;34m\"idxmin\"\u001b[0m\u001b[1;33m,\u001b[0m \u001b[1;34m\"idxmax\"\u001b[0m\u001b[1;33m]\u001b[0m\u001b[1;33m:\u001b[0m\u001b[1;33m\u001b[0m\u001b[1;33m\u001b[0m\u001b[0m\n",
            "\u001b[1;32m~\\anaconda3\\lib\\site-packages\\pandas\\core\\internals\\managers.py\u001b[0m in \u001b[0;36mgrouped_reduce\u001b[1;34m(self, func)\u001b[0m\n\u001b[0;32m   1470\u001b[0m                     \u001b[0mresult_blocks\u001b[0m \u001b[1;33m=\u001b[0m \u001b[0mextend_blocks\u001b[0m\u001b[1;33m(\u001b[0m\u001b[0mapplied\u001b[0m\u001b[1;33m,\u001b[0m \u001b[0mresult_blocks\u001b[0m\u001b[1;33m)\u001b[0m\u001b[1;33m\u001b[0m\u001b[1;33m\u001b[0m\u001b[0m\n\u001b[0;32m   1471\u001b[0m             \u001b[1;32melse\u001b[0m\u001b[1;33m:\u001b[0m\u001b[1;33m\u001b[0m\u001b[1;33m\u001b[0m\u001b[0m\n\u001b[1;32m-> 1472\u001b[1;33m                 \u001b[0mapplied\u001b[0m \u001b[1;33m=\u001b[0m \u001b[0mblk\u001b[0m\u001b[1;33m.\u001b[0m\u001b[0mapply\u001b[0m\u001b[1;33m(\u001b[0m\u001b[0mfunc\u001b[0m\u001b[1;33m)\u001b[0m\u001b[1;33m\u001b[0m\u001b[1;33m\u001b[0m\u001b[0m\n\u001b[0m\u001b[0;32m   1473\u001b[0m                 \u001b[0mresult_blocks\u001b[0m \u001b[1;33m=\u001b[0m \u001b[0mextend_blocks\u001b[0m\u001b[1;33m(\u001b[0m\u001b[0mapplied\u001b[0m\u001b[1;33m,\u001b[0m \u001b[0mresult_blocks\u001b[0m\u001b[1;33m)\u001b[0m\u001b[1;33m\u001b[0m\u001b[1;33m\u001b[0m\u001b[0m\n\u001b[0;32m   1474\u001b[0m \u001b[1;33m\u001b[0m\u001b[0m\n",
            "\u001b[1;32m~\\anaconda3\\lib\\site-packages\\pandas\\core\\internals\\blocks.py\u001b[0m in \u001b[0;36mapply\u001b[1;34m(self, func, **kwargs)\u001b[0m\n\u001b[0;32m    391\u001b[0m         \u001b[0mone\u001b[0m\u001b[1;33m\u001b[0m\u001b[1;33m\u001b[0m\u001b[0m\n\u001b[0;32m    392\u001b[0m         \"\"\"\n\u001b[1;32m--> 393\u001b[1;33m         \u001b[0mresult\u001b[0m \u001b[1;33m=\u001b[0m \u001b[0mfunc\u001b[0m\u001b[1;33m(\u001b[0m\u001b[0mself\u001b[0m\u001b[1;33m.\u001b[0m\u001b[0mvalues\u001b[0m\u001b[1;33m,\u001b[0m \u001b[1;33m**\u001b[0m\u001b[0mkwargs\u001b[0m\u001b[1;33m)\u001b[0m\u001b[1;33m\u001b[0m\u001b[1;33m\u001b[0m\u001b[0m\n\u001b[0m\u001b[0;32m    394\u001b[0m \u001b[1;33m\u001b[0m\u001b[0m\n\u001b[0;32m    395\u001b[0m         \u001b[0mresult\u001b[0m \u001b[1;33m=\u001b[0m \u001b[0mmaybe_coerce_values\u001b[0m\u001b[1;33m(\u001b[0m\u001b[0mresult\u001b[0m\u001b[1;33m)\u001b[0m\u001b[1;33m\u001b[0m\u001b[1;33m\u001b[0m\u001b[0m\n",
            "\u001b[1;32m~\\anaconda3\\lib\\site-packages\\pandas\\core\\groupby\\groupby.py\u001b[0m in \u001b[0;36marray_func\u001b[1;34m(values)\u001b[0m\n\u001b[0;32m   1971\u001b[0m         \u001b[1;32mdef\u001b[0m \u001b[0marray_func\u001b[0m\u001b[1;33m(\u001b[0m\u001b[0mvalues\u001b[0m\u001b[1;33m:\u001b[0m \u001b[0mArrayLike\u001b[0m\u001b[1;33m)\u001b[0m \u001b[1;33m->\u001b[0m \u001b[0mArrayLike\u001b[0m\u001b[1;33m:\u001b[0m\u001b[1;33m\u001b[0m\u001b[1;33m\u001b[0m\u001b[0m\n\u001b[0;32m   1972\u001b[0m             \u001b[1;32mtry\u001b[0m\u001b[1;33m:\u001b[0m\u001b[1;33m\u001b[0m\u001b[1;33m\u001b[0m\u001b[0m\n\u001b[1;32m-> 1973\u001b[1;33m                 result = self._grouper._cython_operation(\n\u001b[0m\u001b[0;32m   1974\u001b[0m                     \u001b[1;34m\"aggregate\"\u001b[0m\u001b[1;33m,\u001b[0m\u001b[1;33m\u001b[0m\u001b[1;33m\u001b[0m\u001b[0m\n\u001b[0;32m   1975\u001b[0m                     \u001b[0mvalues\u001b[0m\u001b[1;33m,\u001b[0m\u001b[1;33m\u001b[0m\u001b[1;33m\u001b[0m\u001b[0m\n",
            "\u001b[1;32m~\\anaconda3\\lib\\site-packages\\pandas\\core\\groupby\\ops.py\u001b[0m in \u001b[0;36m_cython_operation\u001b[1;34m(self, kind, values, how, axis, min_count, **kwargs)\u001b[0m\n\u001b[0;32m    829\u001b[0m         \u001b[0mids\u001b[0m\u001b[1;33m,\u001b[0m \u001b[0m_\u001b[0m\u001b[1;33m,\u001b[0m \u001b[0m_\u001b[0m \u001b[1;33m=\u001b[0m \u001b[0mself\u001b[0m\u001b[1;33m.\u001b[0m\u001b[0mgroup_info\u001b[0m\u001b[1;33m\u001b[0m\u001b[1;33m\u001b[0m\u001b[0m\n\u001b[0;32m    830\u001b[0m         \u001b[0mngroups\u001b[0m \u001b[1;33m=\u001b[0m \u001b[0mself\u001b[0m\u001b[1;33m.\u001b[0m\u001b[0mngroups\u001b[0m\u001b[1;33m\u001b[0m\u001b[1;33m\u001b[0m\u001b[0m\n\u001b[1;32m--> 831\u001b[1;33m         return cy_op.cython_operation(\n\u001b[0m\u001b[0;32m    832\u001b[0m             \u001b[0mvalues\u001b[0m\u001b[1;33m=\u001b[0m\u001b[0mvalues\u001b[0m\u001b[1;33m,\u001b[0m\u001b[1;33m\u001b[0m\u001b[1;33m\u001b[0m\u001b[0m\n\u001b[0;32m    833\u001b[0m             \u001b[0maxis\u001b[0m\u001b[1;33m=\u001b[0m\u001b[0maxis\u001b[0m\u001b[1;33m,\u001b[0m\u001b[1;33m\u001b[0m\u001b[1;33m\u001b[0m\u001b[0m\n",
            "\u001b[1;32m~\\anaconda3\\lib\\site-packages\\pandas\\core\\groupby\\ops.py\u001b[0m in \u001b[0;36mcython_operation\u001b[1;34m(self, values, axis, min_count, comp_ids, ngroups, **kwargs)\u001b[0m\n\u001b[0;32m    539\u001b[0m         \u001b[1;32mif\u001b[0m \u001b[1;32mnot\u001b[0m \u001b[0misinstance\u001b[0m\u001b[1;33m(\u001b[0m\u001b[0mvalues\u001b[0m\u001b[1;33m,\u001b[0m \u001b[0mnp\u001b[0m\u001b[1;33m.\u001b[0m\u001b[0mndarray\u001b[0m\u001b[1;33m)\u001b[0m\u001b[1;33m:\u001b[0m\u001b[1;33m\u001b[0m\u001b[1;33m\u001b[0m\u001b[0m\n\u001b[0;32m    540\u001b[0m             \u001b[1;31m# i.e. ExtensionArray\u001b[0m\u001b[1;33m\u001b[0m\u001b[1;33m\u001b[0m\u001b[0m\n\u001b[1;32m--> 541\u001b[1;33m             return values._groupby_op(\n\u001b[0m\u001b[0;32m    542\u001b[0m                 \u001b[0mhow\u001b[0m\u001b[1;33m=\u001b[0m\u001b[0mself\u001b[0m\u001b[1;33m.\u001b[0m\u001b[0mhow\u001b[0m\u001b[1;33m,\u001b[0m\u001b[1;33m\u001b[0m\u001b[1;33m\u001b[0m\u001b[0m\n\u001b[0;32m    543\u001b[0m                 \u001b[0mhas_dropped_na\u001b[0m\u001b[1;33m=\u001b[0m\u001b[0mself\u001b[0m\u001b[1;33m.\u001b[0m\u001b[0mhas_dropped_na\u001b[0m\u001b[1;33m,\u001b[0m\u001b[1;33m\u001b[0m\u001b[1;33m\u001b[0m\u001b[0m\n",
            "\u001b[1;32m~\\anaconda3\\lib\\site-packages\\pandas\\core\\arrays\\categorical.py\u001b[0m in \u001b[0;36m_groupby_op\u001b[1;34m(self, how, has_dropped_na, min_count, ngroups, ids, **kwargs)\u001b[0m\n\u001b[0;32m   2719\u001b[0m         \u001b[0mdtype\u001b[0m \u001b[1;33m=\u001b[0m \u001b[0mself\u001b[0m\u001b[1;33m.\u001b[0m\u001b[0mdtype\u001b[0m\u001b[1;33m\u001b[0m\u001b[1;33m\u001b[0m\u001b[0m\n\u001b[0;32m   2720\u001b[0m         \u001b[1;32mif\u001b[0m \u001b[0mhow\u001b[0m \u001b[1;32min\u001b[0m \u001b[1;33m[\u001b[0m\u001b[1;34m\"sum\"\u001b[0m\u001b[1;33m,\u001b[0m \u001b[1;34m\"prod\"\u001b[0m\u001b[1;33m,\u001b[0m \u001b[1;34m\"cumsum\"\u001b[0m\u001b[1;33m,\u001b[0m \u001b[1;34m\"cumprod\"\u001b[0m\u001b[1;33m,\u001b[0m \u001b[1;34m\"skew\"\u001b[0m\u001b[1;33m]\u001b[0m\u001b[1;33m:\u001b[0m\u001b[1;33m\u001b[0m\u001b[1;33m\u001b[0m\u001b[0m\n\u001b[1;32m-> 2721\u001b[1;33m             \u001b[1;32mraise\u001b[0m \u001b[0mTypeError\u001b[0m\u001b[1;33m(\u001b[0m\u001b[1;34mf\"{dtype} type does not support {how} operations\"\u001b[0m\u001b[1;33m)\u001b[0m\u001b[1;33m\u001b[0m\u001b[1;33m\u001b[0m\u001b[0m\n\u001b[0m\u001b[0;32m   2722\u001b[0m         \u001b[1;32mif\u001b[0m \u001b[0mhow\u001b[0m \u001b[1;32min\u001b[0m \u001b[1;33m[\u001b[0m\u001b[1;34m\"min\"\u001b[0m\u001b[1;33m,\u001b[0m \u001b[1;34m\"max\"\u001b[0m\u001b[1;33m,\u001b[0m \u001b[1;34m\"rank\"\u001b[0m\u001b[1;33m,\u001b[0m \u001b[1;34m\"idxmin\"\u001b[0m\u001b[1;33m,\u001b[0m \u001b[1;34m\"idxmax\"\u001b[0m\u001b[1;33m]\u001b[0m \u001b[1;32mand\u001b[0m \u001b[1;32mnot\u001b[0m \u001b[0mdtype\u001b[0m\u001b[1;33m.\u001b[0m\u001b[0mordered\u001b[0m\u001b[1;33m:\u001b[0m\u001b[1;33m\u001b[0m\u001b[1;33m\u001b[0m\u001b[0m\n\u001b[0;32m   2723\u001b[0m             \u001b[1;31m# raise TypeError instead of NotImplementedError to ensure we\u001b[0m\u001b[1;33m\u001b[0m\u001b[1;33m\u001b[0m\u001b[0m\n",
            "\u001b[1;31mTypeError\u001b[0m: category type does not support sum operations"
          ]
        }
      ],
      "source": [
        "# Convert 'Year' and 'Month' columns to a 'Date' column\n",
        "month_mapping = {'January': 1, 'February': 2, 'March': 3, 'April': 4, 'May': 5, 'June': 6, 'July': 7, 'August': 8, 'September': 9, 'October': 10, 'November': 11, 'December': 12}\n",
        "flood['Month'] = flood['Month'].map(month_mapping)\n",
        "\n",
        "# Debugging: Check if Month mapping worked\n",
        "print(\"Month column after mapping:\\n\", flood['Month'].head())\n",
        "\n",
        "# Create Date column\n",
        "flood['Date'] = pd.to_datetime(flood[['Year', 'Month']].assign(day=1), errors='coerce')\n",
        "\n",
        "# Debugging: Check if Date conversion worked\n",
        "print(\"Date column after conversion:\\n\", flood['Date'].head())\n",
        "\n",
        "# Filter out rows with NaT values in the 'Date' column\n",
        "flood = flood.dropna(subset=['Date'])\n",
        "\n",
        "# Debugging: Check if there are any rows left after dropping NaT\n",
        "print(\"Flood data after dropping NaT:\\n\", flood.head())\n",
        "\n",
        "# Create a daily frequency flood occurrence DataFrame\n",
        "flood['Flood_Occurrence'] = 1\n",
        "flood_daily = flood.set_index('Date').resample('D').sum().reset_index()\n",
        "flood_daily['Flood_Occurrence'] = flood_daily['Flood_Occurrence'].apply(lambda x: 1 if x > 0 else 0)\n",
        "\n",
        "# Debugging: Check the final daily flood occurrence data\n",
        "print(\"Daily flood occurrence data:\\n\", flood_daily.head())"
      ]
    },
    {
      "cell_type": "code",
      "execution_count": null,
      "id": "25d106c2-24fb-4d8b-9f29-0adaa7e713d5",
      "metadata": {
        "id": "25d106c2-24fb-4d8b-9f29-0adaa7e713d5"
      },
      "outputs": [],
      "source": [
        "# Ensure the 'Date' column is in datetime format\n",
        "df['Date'] = pd.to_datetime(df['datetime']).dt.date\n",
        "\n",
        "# Drop non-numeric columns\n",
        "numeric_df = df.drop(columns=['datetime', 'name', 'preciptype', 'sunrise', 'sunset', 'conditions', 'description', 'icon', 'stations'])\n",
        "\n",
        "# Resample the weather data to daily frequency\n",
        "df_daily = numeric_df.groupby('Date').mean().reset_index()\n",
        "\n",
        "# Display the processed weather data\n",
        "print(\"Processed daily weather data:\\n\", df_daily.head())\n"
      ]
    },
    {
      "cell_type": "code",
      "execution_count": null,
      "id": "9af0fc77-3fbb-4120-84e4-041bb35e08a3",
      "metadata": {
        "id": "9af0fc77-3fbb-4120-84e4-041bb35e08a3"
      },
      "outputs": [],
      "source": [
        "# Ensure 'Date' columns in both dataframes are of datetime type\n",
        "df_daily['Date'] = pd.to_datetime(df_daily['Date'])\n",
        "flood_daily['Date'] = pd.to_datetime(flood_daily['Date'])\n",
        "\n",
        "# Merge daily weather data with flood data\n",
        "merged_data = pd.merge(df_daily, flood_daily[['Date', 'Flood_Occurrence']], on='Date', how='left')\n",
        "merged_data['Flood_Occurrence'].fillna(0, inplace=True)\n",
        "\n",
        "# Display the merged data\n",
        "print(\"Merged weather and flood data:\\n\", merged_data.head())\n"
      ]
    },
    {
      "cell_type": "code",
      "execution_count": null,
      "id": "b0665d84-41ec-4395-be4a-763c58ece6ac",
      "metadata": {
        "id": "b0665d84-41ec-4395-be4a-763c58ece6ac"
      },
      "outputs": [],
      "source": [
        "from sklearn.model_selection import train_test_split\n",
        "from sklearn.ensemble import RandomForestClassifier\n",
        "from sklearn.metrics import classification_report, confusion_matrix\n",
        "\n",
        "# Prepare the data for training\n",
        "X = merged_data.drop(columns=['Date', 'Flood_Occurrence'])\n",
        "y = merged_data['Flood_Occurrence']\n",
        "\n",
        "# Split the data into training and testing sets\n",
        "X_train, X_test, y_train, y_test = train_test_split(X, y, test_size=0.2, random_state=42)\n",
        "\n",
        "# Train the Random Forest classifier\n",
        "rf_model = RandomForestClassifier(n_estimators=100, random_state=42)\n",
        "rf_model.fit(X_train, y_train)\n",
        "\n",
        "# Make predictions on the test set\n",
        "y_pred = rf_model.predict(X_test)\n",
        "\n",
        "# Evaluate the model\n",
        "print(\"Classification Report:\\n\", classification_report(y_test, y_pred))\n",
        "print(\"Confusion Matrix:\\n\", confusion_matrix(y_test, y_pred))\n"
      ]
    },
    {
      "cell_type": "code",
      "execution_count": null,
      "id": "d1c98e81-8be2-46ef-889b-ad10b1fa2045",
      "metadata": {
        "id": "d1c98e81-8be2-46ef-889b-ad10b1fa2045"
      },
      "outputs": [],
      "source": [
        "# Ensure 'Date' column in new_weather_data is in datetime format\n",
        "new_weather_data['Date'] = pd.to_datetime(new_weather_data['Date'])\n",
        "\n",
        "# Drop 'Note' column if it exists\n",
        "if 'Note' in new_weather_data.columns:\n",
        "    new_weather_data = new_weather_data.drop(columns=['Note'])\n",
        "\n",
        "# Prepare the new weather data for prediction\n",
        "new_weather_features = new_weather_data.drop(columns=['Date'])\n",
        "\n",
        "# Ensure new_weather_features has the same columns as the training data\n",
        "missing_cols = set(X_train.columns) - set(new_weather_features.columns)\n",
        "for col in missing_cols:\n",
        "    new_weather_features[col] = 0\n",
        "\n",
        "new_weather_features = new_weather_features[X_train.columns]  # Reorder columns to match\n",
        "\n",
        "# Predict flood likelihood\n",
        "new_weather_data['Flood_Prediction'] = rf_model.predict(new_weather_features)\n",
        "\n",
        "# Display the predictions\n",
        "print(\"New weather data with flood predictions:\\n\", new_weather_data)\n"
      ]
    },
    {
      "cell_type": "code",
      "execution_count": null,
      "id": "d2e52f59-4d05-4c11-ade5-6bc6c61790aa",
      "metadata": {
        "id": "d2e52f59-4d05-4c11-ade5-6bc6c61790aa"
      },
      "outputs": [],
      "source": [
        "import matplotlib.pyplot as plt\n",
        "\n",
        "# Plot the predictions\n",
        "plt.figure(figsize=(10, 6))\n",
        "plt.plot(new_weather_data['Date'].values, new_weather_data['Flood_Prediction'].values, marker='o', linestyle='-', label='Flood Prediction')\n",
        "plt.axhline(y=0.5, color='r', linestyle='--', label='Threshold')\n",
        "plt.xlabel('Date')\n",
        "plt.ylabel('Flood Prediction')\n",
        "plt.title('Flood Predictions for the Next 30 Days')\n",
        "plt.legend()\n",
        "plt.xticks(rotation=45)\n",
        "plt.grid(True)\n",
        "plt.show()\n"
      ]
    },
    {
      "cell_type": "markdown",
      "id": "0aa5588d-6d54-41db-8331-a4286b847eae",
      "metadata": {
        "id": "0aa5588d-6d54-41db-8331-a4286b847eae"
      },
      "source": [
        "## Applying SMOTE"
      ]
    },
    {
      "cell_type": "code",
      "execution_count": null,
      "id": "774e6dc8-88c9-415c-b31b-9bda0cc33686",
      "metadata": {
        "id": "774e6dc8-88c9-415c-b31b-9bda0cc33686"
      },
      "outputs": [],
      "source": [
        "import pandas as pd\n",
        "from sklearn.model_selection import train_test_split, GridSearchCV\n",
        "from xgboost import XGBClassifier\n",
        "from sklearn.metrics import classification_report, confusion_matrix\n",
        "from sklearn.feature_selection import RFECV\n",
        "from imblearn.over_sampling import SMOTE\n",
        "from sklearn.preprocessing import OneHotEncoder\n",
        "import matplotlib.pyplot as plt\n",
        "\n",
        "# Assuming 'df' contains your weather data and 'flood_daily' contains flood occurrence data\n",
        "\n",
        "# Convert 'Date' columns to datetime in both dataframes\n",
        "df['Date'] = pd.to_datetime(df['datetime']).dt.date\n",
        "flood_daily['Date'] = pd.to_datetime(flood_daily['Date']).dt.date\n",
        "\n",
        "# Merge the datasets\n",
        "merged_data = pd.merge(df, flood_daily[['Date', 'Flood_Occurrence']], on='Date', how='left')\n",
        "merged_data['Flood_Occurrence'].fillna(0, inplace=True)\n",
        "\n",
        "# Ensure these columns are dropped if they exist\n",
        "columns_to_drop = ['Date', 'datetime', 'name', 'preciptype', 'sunrise', 'sunset', 'conditions', 'description', 'icon', 'stations', 'Year', 'Month', 'Event']\n",
        "existing_columns_to_drop = [col for col in columns_to_drop if col in merged_data.columns]\n",
        "\n",
        "# Feature engineering: Dropping unnecessary columns\n",
        "features = merged_data.drop(columns=existing_columns_to_drop)\n",
        "\n",
        "# Target variable\n",
        "target = merged_data['Flood_Occurrence']\n",
        "\n",
        "# Handling categorical variables\n",
        "categorical_cols = features.select_dtypes(include=['object']).columns\n",
        "encoder = OneHotEncoder(drop='first', sparse_output=False, handle_unknown='ignore')\n",
        "encoded_cols = encoder.fit_transform(features[categorical_cols])\n",
        "encoded_df = pd.DataFrame(encoded_cols, columns=encoder.get_feature_names_out(categorical_cols))\n",
        "\n",
        "# Combine encoded features with the rest of the features\n",
        "features = features.drop(columns=categorical_cols)\n",
        "features = pd.concat([features.reset_index(drop=True), encoded_df.reset_index(drop=True)], axis=1)\n",
        "\n",
        "# SMOTE to balance the dataset\n",
        "smote = SMOTE(random_state=42)\n",
        "X_res, y_res = smote.fit_resample(features, target)\n",
        "\n",
        "# Split the data\n",
        "X_train, X_test, y_train, y_test = train_test_split(X_res, y_res, test_size=0.3, random_state=42)\n",
        "\n",
        "# Feature selection using RFECV\n",
        "xgb_model = XGBClassifier(use_label_encoder=False, eval_metric='logloss')\n",
        "selector = RFECV(xgb_model, step=1, cv=5)\n",
        "selector = selector.fit(X_train, y_train)\n",
        "\n",
        "# Select important features\n",
        "X_train_selected = selector.transform(X_train)\n",
        "X_test_selected = selector.transform(X_test)\n",
        "\n",
        "# Hyperparameter tuning using GridSearchCV\n",
        "param_grid = {\n",
        "    'n_estimators': [50, 100, 200],\n",
        "    'max_depth': [3, 5, 7],\n",
        "    'learning_rate': [0.01, 0.05, 0.1],\n",
        "    'subsample': [0.8, 1.0]\n",
        "}\n",
        "\n",
        "grid_search = GridSearchCV(estimator=xgb_model, param_grid=param_grid, cv=5, scoring='f1')\n",
        "grid_search.fit(X_train_selected, y_train)\n",
        "\n",
        "best_model = grid_search.best_estimator_\n",
        "\n",
        "# Evaluate the best model\n",
        "y_pred = best_model.predict(X_test_selected)\n",
        "print(classification_report(y_test, y_pred))\n",
        "print(confusion_matrix(y_test, y_pred))\n",
        "\n",
        "# Preparing new weather data\n",
        "new_weather_data = pd.read_excel(r'C:\\Users\\comad\\ML\\HNG\\new_weather_data.xlsx')\n",
        "new_weather_data['Date'] = pd.to_datetime(new_weather_data['Date'])\n",
        "new_weather_features = new_weather_data.drop(columns=['Date', 'Day', 'Weather Source', 'Note'])\n",
        "\n",
        "# Ensure consistency in feature names by adding missing columns\n",
        "for col in features.columns:\n",
        "    if col not in new_weather_features.columns:\n",
        "        new_weather_features[col] = 0\n",
        "\n",
        "# Ensure the order of columns matches the training set\n",
        "new_weather_features = new_weather_features[features.columns]\n",
        "\n",
        "# One-hot encode new weather data\n",
        "new_weather_encoded_cols = encoder.transform(new_weather_features[categorical_cols])\n",
        "new_weather_encoded_df = pd.DataFrame(new_weather_encoded_cols, columns=encoder.get_feature_names_out(categorical_cols))\n",
        "\n",
        "# Combine new weather features\n",
        "new_weather_features = new_weather_features.drop(columns=categorical_cols)\n",
        "new_weather_features = pd.concat([new_weather_features.reset_index(drop=True), new_weather_encoded_df.reset_index(drop=True)], axis=1)\n",
        "\n",
        "# Select important features from new weather data\n",
        "new_weather_features_selected = selector.transform(new_weather_features)\n",
        "\n",
        "# Predict flood likelihood\n",
        "new_weather_data['Flood_Prediction'] = best_model.predict(new_weather_features_selected)\n",
        "\n",
        "# Display the predictions\n",
        "print(\"New weather data with flood predictions:\")\n",
        "print(new_weather_data)\n",
        "\n",
        "# Plot the predictions with an appropriate threshold\n",
        "plt.figure(figsize=(10, 6))\n",
        "plt.plot(new_weather_data['Date'].values, new_weather_data['Flood_Prediction'].values, marker='o', linestyle='-', label='Flood Prediction')\n",
        "plt.axhline(y=0.5, color='r', linestyle='--', label='Threshold')\n",
        "plt.xlabel('Date')\n",
        "plt.ylabel('Flood Prediction')\n",
        "plt.title('Flood Predictions for the Next 30 Days')\n",
        "plt.legend()\n",
        "plt.xticks(rotation=45)\n",
        "plt.grid(True)\n",
        "plt.show()\n"
      ]
    },
    {
      "cell_type": "markdown",
      "id": "b8e96522-f643-45e9-8231-fe0f7cb1d1fe",
      "metadata": {
        "tags": [],
        "id": "b8e96522-f643-45e9-8231-fe0f7cb1d1fe"
      },
      "source": [
        "### Time Series"
      ]
    },
    {
      "cell_type": "code",
      "execution_count": null,
      "id": "e6f0f934-5ff9-4e40-adf0-0e75f84c720b",
      "metadata": {
        "id": "e6f0f934-5ff9-4e40-adf0-0e75f84c720b"
      },
      "outputs": [],
      "source": [
        "\n",
        "\n",
        "# Load the new weather data (assuming it's loaded in new_weather_data)\n",
        "new_weather_data['Date'] = pd.to_datetime(new_weather_data['Date'])\n",
        "new_weather_data = new_weather_data[['Date', 'Max Temp', 'Min Temp']]\n",
        "\n",
        "# Convert temperatures to strings, remove degree symbols, and convert to numeric\n",
        "new_weather_data['Max Temp'] = new_weather_data['Max Temp'].astype(str).str.replace('°', '').astype(float)\n",
        "new_weather_data['Min Temp'] = new_weather_data['Min Temp'].astype(str).str.replace('°', '').astype(float)"
      ]
    },
    {
      "cell_type": "code",
      "execution_count": null,
      "id": "33ef88e3-b45d-46d0-8cf7-80baa03eba9e",
      "metadata": {
        "id": "33ef88e3-b45d-46d0-8cf7-80baa03eba9e"
      },
      "outputs": [],
      "source": [
        "# Ensure 'Date' columns are of datetime type\n",
        "flood_daily['Date'] = pd.to_datetime(flood_daily['Date'])\n",
        "\n",
        "# Combine with flood data (assuming flood_daily is the processed flood data)\n",
        "combined_data = pd.merge(new_weather_data, flood_daily[['Date', 'Flood_Occurrence']], on='Date', how='left')\n",
        "combined_data['Flood_Occurrence'].fillna(0, inplace=True)\n",
        "\n",
        "# Feature engineering: Create a combined feature for ARIMA\n",
        "combined_data['Combined_Feature'] = combined_data['Max Temp'] * combined_data['Min Temp']\n"
      ]
    },
    {
      "cell_type": "code",
      "execution_count": null,
      "id": "94a2bb2f-557f-4f0d-b998-1cfe9b1a586a",
      "metadata": {
        "id": "94a2bb2f-557f-4f0d-b998-1cfe9b1a586a"
      },
      "outputs": [],
      "source": [
        "# Fit ARIMA model on the combined feature\n",
        "arima_model = ARIMA(combined_data['Combined_Feature'], order=(2, 1, 2))\n",
        "arima_result = arima_model.fit()\n"
      ]
    },
    {
      "cell_type": "code",
      "execution_count": null,
      "id": "d9469382-3901-498f-9459-18acda15e066",
      "metadata": {
        "id": "d9469382-3901-498f-9459-18acda15e066"
      },
      "outputs": [],
      "source": [
        "# Forecast for the next 30 days\n",
        "forecast = arima_result.forecast(steps=30)\n",
        "\n",
        "# Create a DataFrame for the forecasted values\n",
        "forecast_dates = pd.date_range(start=new_weather_data['Date'].max() + pd.Timedelta(days=1), periods=30, freq='D')\n",
        "forecast_df = pd.DataFrame({'Date': forecast_dates, 'Forecasted_Combined_Feature': forecast})\n",
        "\n",
        "# Predict flood occurrence based on the forecasted combined feature\n",
        "forecast_df['Flood_Prediction'] = forecast_df['Forecasted_Combined_Feature'].apply(lambda x: 1 if x > threshold else 0)\n"
      ]
    },
    {
      "cell_type": "code",
      "execution_count": null,
      "id": "8f30e0d9-8797-4029-b7e0-eacc556ddab7",
      "metadata": {
        "id": "8f30e0d9-8797-4029-b7e0-eacc556ddab7"
      },
      "outputs": [],
      "source": [
        "new_threshold = 677.5\n",
        "\n",
        "# Plot the predictions with the new threshold\n",
        "plt.figure(figsize=(10, 6))\n",
        "plt.plot(forecast_df['Date'].values, forecast_df['Forecasted_Combined_Feature'].values, marker='o', linestyle='-', label='Forecasted Combined Feature')\n",
        "plt.axhline(y=new_threshold, color='r', linestyle='--', label='Threshold')\n",
        "plt.xlabel('Date')\n",
        "plt.ylabel('Forecasted Combined Feature')\n",
        "plt.title('Flood Predictions for the Next 30 Days with Adjusted Threshold')\n",
        "plt.legend()\n",
        "plt.xticks(rotation=45)\n",
        "plt.grid(True)\n",
        "plt.show()\n",
        "\n",
        "# Update flood predictions based on the new threshold\n",
        "forecast_df['Flood_Prediction'] = (forecast_df['Forecasted_Combined_Feature'] > new_threshold).astype(int)\n",
        "\n",
        "# Display the updated predictions\n",
        "print(\"Updated flood predictions:\\n\", forecast_df[['Date', 'Flood_Prediction']])\n"
      ]
    },
    {
      "cell_type": "markdown",
      "id": "3850440a-9c63-4904-9d47-8c3f9412cc0f",
      "metadata": {
        "id": "3850440a-9c63-4904-9d47-8c3f9412cc0f"
      },
      "source": [
        "## Checking out the best threshold"
      ]
    },
    {
      "cell_type": "code",
      "execution_count": null,
      "id": "366a47ec-c275-40db-8a0b-f7a17a915617",
      "metadata": {
        "id": "366a47ec-c275-40db-8a0b-f7a17a915617"
      },
      "outputs": [],
      "source": [
        "\n",
        "\n",
        "# Define a range of thresholds to evaluate\n",
        "thresholds = np.arange(0.1, 1.0, 0.1)\n",
        "\n",
        "# Placeholder lists to store evaluation metrics\n",
        "precisions = []\n",
        "recalls = []\n",
        "f1_scores = []\n",
        "accuracies = []\n",
        "\n",
        "# Assuming 'forecast_df' has 'Date' and 'Forecasted_Combined_Feature' columns\n",
        "# Assuming 'flood_daily' has 'Date' and 'Flood_Occurrence' columns\n",
        "\n",
        "# Combine forecasted data with actual flood occurrences\n",
        "merged_data = pd.merge(forecast_df[['Date', 'Forecasted_Combined_Feature']], flood_daily[['Date', 'Flood_Occurrence']], on='Date', how='left')\n",
        "merged_data['Flood_Occurrence'].fillna(0, inplace=True)\n",
        "\n",
        "# Iterate over each threshold value\n",
        "for threshold in thresholds:\n",
        "    # Predict flood likelihood based on the current threshold\n",
        "    predictions = (merged_data['Forecasted_Combined_Feature'] > threshold).astype(int)\n",
        "\n",
        "    # Calculate precision, recall, f1-score, and accuracy\n",
        "    precision = precision_score(merged_data['Flood_Occurrence'], predictions)\n",
        "    recall = recall_score(merged_data['Flood_Occurrence'], predictions)\n",
        "    f1 = f1_score(merged_data['Flood_Occurrence'], predictions)\n",
        "    accuracy = accuracy_score(merged_data['Flood_Occurrence'], predictions)\n",
        "\n",
        "    # Append metrics to respective lists\n",
        "    precisions.append(precision)\n",
        "    recalls.append(recall)\n",
        "    f1_scores.append(f1)\n",
        "    accuracies.append(accuracy)\n",
        "\n",
        "# Create a DataFrame to store the results\n",
        "threshold_results = pd.DataFrame({\n",
        "    'Threshold': thresholds,\n",
        "    'Precision': precisions,\n",
        "    'Recall': recalls,\n",
        "    'F1_Score': f1_scores,\n",
        "    'Accuracy': accuracies\n",
        "})\n",
        "\n",
        "# Display the results\n",
        "print(threshold_results)\n"
      ]
    },
    {
      "cell_type": "code",
      "execution_count": null,
      "id": "43550252-0b50-42d2-aeb6-fdd52441e557",
      "metadata": {
        "id": "43550252-0b50-42d2-aeb6-fdd52441e557"
      },
      "outputs": [],
      "source": [
        "# Check the distribution of the Flood_Occurrence column\n",
        "print(\"Flood occurrence distribution:\\n\", merged_data['Flood_Occurrence'].value_counts())\n"
      ]
    },
    {
      "cell_type": "code",
      "execution_count": null,
      "id": "ba17af4d-66aa-4ae8-99b4-229743341fec",
      "metadata": {
        "id": "ba17af4d-66aa-4ae8-99b4-229743341fec"
      },
      "outputs": [],
      "source": []
    },
    {
      "cell_type": "code",
      "execution_count": null,
      "id": "b3bdd475-7903-47ab-b29b-3130ce68f828",
      "metadata": {
        "id": "b3bdd475-7903-47ab-b29b-3130ce68f828"
      },
      "outputs": [],
      "source": []
    },
    {
      "cell_type": "markdown",
      "id": "87c3eb36-a0c9-4dc8-8122-39f8a3321e1a",
      "metadata": {
        "id": "87c3eb36-a0c9-4dc8-8122-39f8a3321e1a"
      },
      "source": [
        "### Another method"
      ]
    },
    {
      "cell_type": "code",
      "execution_count": null,
      "id": "8f3ced0b-c24a-4467-a9c6-118823b9c9d9",
      "metadata": {
        "id": "8f3ced0b-c24a-4467-a9c6-118823b9c9d9"
      },
      "outputs": [],
      "source": [
        "import pandas as pd\n",
        "\n",
        "# Ensure the Date columns are in datetime format\n",
        "new_weather_data['Date'] = pd.to_datetime(new_weather_data['Date'], errors='coerce')\n",
        "\n",
        "# Convert temperature columns to strings first, then to numeric values\n",
        "new_weather_data['Max Temp'] = pd.to_numeric(new_weather_data['Max Temp'].astype(str).str.replace('°', ''), errors='coerce')\n",
        "new_weather_data['Min Temp'] = pd.to_numeric(new_weather_data['Min Temp'].astype(str).str.replace('°', ''), errors='coerce')\n",
        "\n",
        "# Fill any NaN values with the mean of the column\n",
        "new_weather_data['Max Temp'].fillna(new_weather_data['Max Temp'].mean(), inplace=True)\n",
        "new_weather_data['Min Temp'].fillna(new_weather_data['Min Temp'].mean(), inplace=True)\n",
        "\n",
        "# Ensure Date columns in df and flood_daily are in datetime format\n",
        "df['Date'] = pd.to_datetime(df['datetime']).dt.date\n",
        "flood_daily['Date'] = pd.to_datetime(flood_daily['Date']).dt.date\n",
        "\n",
        "# Convert Date columns back to datetime to ensure compatibility in merging\n",
        "df['Date'] = pd.to_datetime(df['Date'])\n",
        "flood_daily['Date'] = pd.to_datetime(flood_daily['Date'])\n",
        "\n",
        "# Select only numeric columns from df for resampling\n",
        "numeric_cols = df.select_dtypes(include=['number']).columns\n",
        "df_daily = df[['Date'] + list(numeric_cols)].set_index('Date').resample('D').mean().reset_index()\n",
        "\n",
        "# Merge historical weather data with flood data and new weather data\n",
        "merged_data = pd.merge(df_daily, flood_daily[['Date', 'Flood_Occurrence']], on='Date', how='left')\n",
        "merged_data = pd.merge(merged_data, new_weather_data[['Date', 'Max Temp', 'Min Temp']], on='Date', how='left')\n",
        "\n",
        "# Fill any NaN values that may have resulted from the merge\n",
        "merged_data['Max Temp'].fillna(merged_data['tempmax'], inplace=True)\n",
        "merged_data['Min Temp'].fillna(merged_data['tempmin'], inplace=True)\n",
        "\n",
        "# Feature engineering: Create a combined feature for ARIMA\n",
        "merged_data['Combined_Feature'] = merged_data[['Max Temp', 'Min Temp']].mean(axis=1)\n",
        "\n",
        "print(merged_data.head())\n"
      ]
    },
    {
      "cell_type": "code",
      "execution_count": null,
      "id": "fa70726e-5859-4405-bbfb-e9bce4472e7d",
      "metadata": {
        "id": "fa70726e-5859-4405-bbfb-e9bce4472e7d"
      },
      "outputs": [],
      "source": [
        "# Check for NaN values in Combined_Feature\n",
        "print(\"Number of NaN values in Combined_Feature before dropping:\", merged_data['Combined_Feature'].isna().sum())\n",
        "\n",
        "# Drop NaN values\n",
        "merged_data = merged_data.dropna(subset=['Combined_Feature'])\n",
        "\n",
        "# Verify the result\n",
        "print(\"Number of NaN values in Combined_Feature after dropping:\", merged_data['Combined_Feature'].isna().sum())\n"
      ]
    },
    {
      "cell_type": "code",
      "execution_count": null,
      "id": "cb2f3476-6c6c-4af4-abaf-8a7ed6de3b59",
      "metadata": {
        "id": "cb2f3476-6c6c-4af4-abaf-8a7ed6de3b59"
      },
      "outputs": [],
      "source": [
        "# Forecast the next 30 days\n",
        "forecast_steps = len(new_weather_data)\n",
        "forecast = model_fit.forecast(steps=forecast_steps)\n",
        "\n",
        "# Add forecast to new weather data\n",
        "forecast_df = pd.DataFrame({\n",
        "    'Date': new_weather_data['Date'],\n",
        "    'Forecasted_Combined_Feature': forecast\n",
        "})\n"
      ]
    },
    {
      "cell_type": "code",
      "execution_count": null,
      "id": "8d78d6ea-0276-4be2-a04a-1a1cd7f217ef",
      "metadata": {
        "id": "8d78d6ea-0276-4be2-a04a-1a1cd7f217ef"
      },
      "outputs": [],
      "source": [
        "# Set a threshold for flood prediction\n",
        "threshold = 23  # Adjust based on your data\n",
        "\n",
        "# Predict flood likelihood based on the threshold\n",
        "forecast_df['Flood_Prediction'] = (forecast_df['Forecasted_Combined_Feature'] > threshold).astype(int)\n",
        "\n",
        "# Display the predictions\n",
        "print(forecast_df.head())\n"
      ]
    },
    {
      "cell_type": "code",
      "execution_count": null,
      "id": "012d8b6e-4a32-4ddf-a1ca-fed2b8f6c5e5",
      "metadata": {
        "id": "012d8b6e-4a32-4ddf-a1ca-fed2b8f6c5e5"
      },
      "outputs": [],
      "source": [
        "import matplotlib.pyplot as plt\n",
        "\n",
        "# Plot the predictions\n",
        "plt.figure(figsize=(10, 6))\n",
        "plt.plot(forecast_df['Date'].values, forecast_df['Forecasted_Combined_Feature'].values, marker='o', linestyle='-', label='Forecasted Combined Feature')\n",
        "plt.axhline(y=threshold, color='r', linestyle='--', label='Threshold')\n",
        "plt.xlabel('Date')\n",
        "plt.ylabel('Forecasted Combined Feature')\n",
        "plt.title('Flood Predictions for the Next 30 Days')\n",
        "plt.legend()\n",
        "plt.xticks(rotation=45)\n",
        "plt.grid(True)\n",
        "plt.show()\n"
      ]
    },
    {
      "cell_type": "code",
      "execution_count": null,
      "id": "e2bd77fa-5380-4cc6-8659-c02bf73d17ca",
      "metadata": {
        "id": "e2bd77fa-5380-4cc6-8659-c02bf73d17ca"
      },
      "outputs": [],
      "source": [
        "import pandas as pd\n",
        "\n",
        "# Convert temperature columns to numeric values\n",
        "new_weather_data['Max Temp'] = new_weather_data['Max Temp'].astype(float)\n",
        "new_weather_data['Min Temp'] = new_weather_data['Min Temp'].astype(float)\n",
        "\n",
        "# Ensure correct date format for merging\n",
        "df['Date'] = pd.to_datetime(df['Date'])\n",
        "flood_daily['Date'] = pd.to_datetime(flood_daily['Date'])\n",
        "new_weather_data['Date'] = pd.to_datetime(new_weather_data['Date'])\n",
        "\n",
        "# Create df_daily for merging\n",
        "df_daily = df.set_index('Date').resample('D').mean().reset_index()\n",
        "\n",
        "# Merge historical weather data with flood data\n",
        "merged_data = pd.merge(df_daily, flood_daily[['Date', 'Flood_Occurrence']], on='Date', how='left')\n",
        "merged_data['Flood_Occurrence'].fillna(0, inplace=True)\n"
      ]
    },
    {
      "cell_type": "code",
      "execution_count": null,
      "id": "8f08123d-03c7-4260-982b-0abce01847bb",
      "metadata": {
        "id": "8f08123d-03c7-4260-982b-0abce01847bb"
      },
      "outputs": [],
      "source": [
        "from statsmodels.tsa.arima.model import ARIMA\n",
        "\n",
        "# Train ARIMA model on historical data\n",
        "model = ARIMA(merged_data['Combined_Feature'], order=(2, 1, 2))\n",
        "model_fit = model.fit()\n"
      ]
    },
    {
      "cell_type": "code",
      "execution_count": null,
      "id": "174b28b7-be3d-44f9-9f53-8002080f7e9f",
      "metadata": {
        "id": "174b28b7-be3d-44f9-9f53-8002080f7e9f"
      },
      "outputs": [],
      "source": [
        "# Forecast the next 30 days\n",
        "forecast_steps = len(new_weather_data)\n",
        "forecast = model_fit.forecast(steps=forecast_steps)\n",
        "\n",
        "# Ensure the forecast length matches the new weather data length\n",
        "forecast = forecast[:forecast_steps]\n",
        "\n",
        "# Add forecast to new weather data\n",
        "forecast_df = pd.DataFrame({\n",
        "    'Date': new_weather_data['Date'],\n",
        "    'Forecasted_Combined_Feature': forecast\n",
        "})\n"
      ]
    },
    {
      "cell_type": "code",
      "execution_count": null,
      "id": "3baaf9f8-e488-471e-ae8a-13150cfcaa28",
      "metadata": {
        "id": "3baaf9f8-e488-471e-ae8a-13150cfcaa28"
      },
      "outputs": [],
      "source": [
        "# Set a threshold for flood prediction\n",
        "threshold = 28  # Adjust based on your data\n",
        "\n",
        "# Predict flood likelihood based on the threshold\n",
        "forecast_df['Flood_Prediction'] = (forecast_df['Forecasted_Combined_Feature'] > threshold).astype(int)\n",
        "\n",
        "# Display the predictions\n",
        "print(forecast_df.head())\n"
      ]
    },
    {
      "cell_type": "code",
      "execution_count": null,
      "id": "410665a6-fd5b-4d9e-b242-acee821b7fea",
      "metadata": {
        "id": "410665a6-fd5b-4d9e-b242-acee821b7fea"
      },
      "outputs": [],
      "source": [
        "import matplotlib.pyplot as plt\n",
        "\n",
        "# Plot the predictions\n",
        "plt.figure(figsize=(10, 6))\n",
        "plt.plot(forecast_df['Date'].values, forecast_df['Forecasted_Combined_Feature'].values, marker='o', linestyle='-', label='Forecasted Combined Feature')\n",
        "plt.axhline(y=threshold, color='r', linestyle='--', label='Threshold')\n",
        "plt.xlabel('Date')\n",
        "plt.ylabel('Forecasted Combined Feature')\n",
        "plt.title('Flood Predictions for the Next 30 Days')\n",
        "plt.legend()\n",
        "plt.xticks(rotation=45)\n",
        "plt.grid(True)\n",
        "plt.show()\n"
      ]
    }
  ],
  "metadata": {
    "kernelspec": {
      "display_name": "Python 3 (ipykernel)",
      "language": "python",
      "name": "python3"
    },
    "language_info": {
      "codemirror_mode": {
        "name": "ipython",
        "version": 3
      },
      "file_extension": ".py",
      "mimetype": "text/x-python",
      "name": "python",
      "nbconvert_exporter": "python",
      "pygments_lexer": "ipython3",
      "version": "3.9.7"
    },
    "colab": {
      "provenance": [],
      "include_colab_link": true
    }
  },
  "nbformat": 4,
  "nbformat_minor": 5
}